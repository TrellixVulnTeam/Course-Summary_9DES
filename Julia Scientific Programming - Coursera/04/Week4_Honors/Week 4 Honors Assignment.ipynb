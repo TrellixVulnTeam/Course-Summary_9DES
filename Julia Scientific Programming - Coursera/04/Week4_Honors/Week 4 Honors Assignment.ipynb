{
 "cells": [
  {
   "cell_type": "markdown",
   "metadata": {},
   "source": [
    "# Week 4 Honors Assignment"
   ]
  },
  {
   "cell_type": "markdown",
   "metadata": {},
   "source": [
    "### A note to the reviewer: \n",
    "As the comments inside the cells are inconsistent with the text in the assignment page, I decided to solve the questions within the comments first and then add more cells for the instructions from the assignment page."
   ]
  },
  {
   "cell_type": "code",
   "execution_count": 2,
   "metadata": {},
   "outputs": [],
   "source": [
    "# Import the required packages\n",
    "using Distributions, DataFrames, Random"
   ]
  },
  {
   "cell_type": "code",
   "execution_count": 3,
   "metadata": {},
   "outputs": [],
   "source": [
    "# Seed the random number generator\n",
    "Random.seed!(1234);"
   ]
  },
  {
   "cell_type": "code",
   "execution_count": 4,
   "metadata": {},
   "outputs": [
    {
     "data": {
      "text/plain": [
       "30×3 Array{Int64,2}:\n",
       " 23  65   5\n",
       " 75  57  47\n",
       " 86   9  49\n",
       " 92  17  96\n",
       " 83  53  55\n",
       "  2   8  56\n",
       " 79  77  25\n",
       " 73  91  16\n",
       " 67  91  35\n",
       " 53  29  80\n",
       " 98   7   5\n",
       " 83  70  89\n",
       " 24   0  58\n",
       "  ⋮        \n",
       "  1  71  39\n",
       " 29  20  32\n",
       " 18  42  13\n",
       " 70  41  73\n",
       " 69  42  18\n",
       " 23  52  19\n",
       " 81  78  21\n",
       " 46  36   0\n",
       " 36  51  98\n",
       " 36  74  86\n",
       " 53  25   0\n",
       " 49  54   2"
      ]
     },
     "execution_count": 4,
     "metadata": {},
     "output_type": "execute_result"
    }
   ],
   "source": [
    "# Question 4: Create the 3 x 30 array named array_1\n",
    "array_1 = rand(0:100,30,3)"
   ]
  },
  {
   "cell_type": "code",
   "execution_count": 5,
   "metadata": {},
   "outputs": [
    {
     "name": "stdout",
     "output_type": "stream",
     "text": [
      "Mean: 53.7, Variance: 794.9758620689657\n"
     ]
    }
   ],
   "source": [
    "# Question 5: Mean and variance of column 1\n",
    "println(\"Mean: $(mean(array_1[:,1])), Variance: $(var(array_1[:,1]))\")"
   ]
  },
  {
   "cell_type": "code",
   "execution_count": 6,
   "metadata": {},
   "outputs": [
    {
     "name": "stdout",
     "output_type": "stream",
     "text": [
      "Mean: 46.266666666666666, Variance: 704.4091954022988\n"
     ]
    }
   ],
   "source": [
    "# Question 5 (continued): Mean and variance of column 2\n",
    "println(\"Mean: $(mean(array_1[:,2])), Variance: $(var(array_1[:,2]))\")"
   ]
  },
  {
   "cell_type": "code",
   "execution_count": 7,
   "metadata": {},
   "outputs": [
    {
     "name": "stdout",
     "output_type": "stream",
     "text": [
      "Mean: 43.56666666666667, Variance: 982.2540229885058\n"
     ]
    }
   ],
   "source": [
    "# Question 5 (continued): Mean and variance of column 3\n",
    "println(\"Mean: $(mean(array_1[:,3])), Variance: $(var(array_1[:,3]))\")"
   ]
  },
  {
   "cell_type": "code",
   "execution_count": 8,
   "metadata": {},
   "outputs": [
    {
     "data": {
      "text/html": [
       "<table class=\"data-frame\"><thead><tr><th></th><th>x1</th><th>x2</th><th>x3</th></tr><tr><th></th><th>Int64</th><th>Int64</th><th>Int64</th></tr></thead><tbody><p>30 rows × 3 columns</p><tr><th>1</th><td>23</td><td>65</td><td>5</td></tr><tr><th>2</th><td>75</td><td>57</td><td>47</td></tr><tr><th>3</th><td>86</td><td>9</td><td>49</td></tr><tr><th>4</th><td>92</td><td>17</td><td>96</td></tr><tr><th>5</th><td>83</td><td>53</td><td>55</td></tr><tr><th>6</th><td>2</td><td>8</td><td>56</td></tr><tr><th>7</th><td>79</td><td>77</td><td>25</td></tr><tr><th>8</th><td>73</td><td>91</td><td>16</td></tr><tr><th>9</th><td>67</td><td>91</td><td>35</td></tr><tr><th>10</th><td>53</td><td>29</td><td>80</td></tr><tr><th>11</th><td>98</td><td>7</td><td>5</td></tr><tr><th>12</th><td>83</td><td>70</td><td>89</td></tr><tr><th>13</th><td>24</td><td>0</td><td>58</td></tr><tr><th>14</th><td>50</td><td>15</td><td>76</td></tr><tr><th>15</th><td>71</td><td>34</td><td>34</td></tr><tr><th>16</th><td>32</td><td>75</td><td>82</td></tr><tr><th>17</th><td>20</td><td>31</td><td>27</td></tr><tr><th>18</th><td>89</td><td>73</td><td>71</td></tr><tr><th>19</th><td>1</td><td>71</td><td>39</td></tr><tr><th>20</th><td>29</td><td>20</td><td>32</td></tr><tr><th>21</th><td>18</td><td>42</td><td>13</td></tr><tr><th>22</th><td>70</td><td>41</td><td>73</td></tr><tr><th>23</th><td>69</td><td>42</td><td>18</td></tr><tr><th>24</th><td>23</td><td>52</td><td>19</td></tr><tr><th>25</th><td>81</td><td>78</td><td>21</td></tr><tr><th>26</th><td>46</td><td>36</td><td>0</td></tr><tr><th>27</th><td>36</td><td>51</td><td>98</td></tr><tr><th>28</th><td>36</td><td>74</td><td>86</td></tr><tr><th>29</th><td>53</td><td>25</td><td>0</td></tr><tr><th>30</th><td>49</td><td>54</td><td>2</td></tr></tbody></table>"
      ],
      "text/latex": [
       "\\begin{tabular}{r|ccc}\n",
       "\t& x1 & x2 & x3\\\\\n",
       "\t\\hline\n",
       "\t& Int64 & Int64 & Int64\\\\\n",
       "\t\\hline\n",
       "\t1 & 23 & 65 & 5 \\\\\n",
       "\t2 & 75 & 57 & 47 \\\\\n",
       "\t3 & 86 & 9 & 49 \\\\\n",
       "\t4 & 92 & 17 & 96 \\\\\n",
       "\t5 & 83 & 53 & 55 \\\\\n",
       "\t6 & 2 & 8 & 56 \\\\\n",
       "\t7 & 79 & 77 & 25 \\\\\n",
       "\t8 & 73 & 91 & 16 \\\\\n",
       "\t9 & 67 & 91 & 35 \\\\\n",
       "\t10 & 53 & 29 & 80 \\\\\n",
       "\t11 & 98 & 7 & 5 \\\\\n",
       "\t12 & 83 & 70 & 89 \\\\\n",
       "\t13 & 24 & 0 & 58 \\\\\n",
       "\t14 & 50 & 15 & 76 \\\\\n",
       "\t15 & 71 & 34 & 34 \\\\\n",
       "\t16 & 32 & 75 & 82 \\\\\n",
       "\t17 & 20 & 31 & 27 \\\\\n",
       "\t18 & 89 & 73 & 71 \\\\\n",
       "\t19 & 1 & 71 & 39 \\\\\n",
       "\t20 & 29 & 20 & 32 \\\\\n",
       "\t21 & 18 & 42 & 13 \\\\\n",
       "\t22 & 70 & 41 & 73 \\\\\n",
       "\t23 & 69 & 42 & 18 \\\\\n",
       "\t24 & 23 & 52 & 19 \\\\\n",
       "\t25 & 81 & 78 & 21 \\\\\n",
       "\t26 & 46 & 36 & 0 \\\\\n",
       "\t27 & 36 & 51 & 98 \\\\\n",
       "\t28 & 36 & 74 & 86 \\\\\n",
       "\t29 & 53 & 25 & 0 \\\\\n",
       "\t30 & 49 & 54 & 2 \\\\\n",
       "\\end{tabular}\n"
      ],
      "text/plain": [
       "30×3 DataFrame\n",
       "│ Row │ x1    │ x2    │ x3    │\n",
       "│     │ \u001b[90mInt64\u001b[39m │ \u001b[90mInt64\u001b[39m │ \u001b[90mInt64\u001b[39m │\n",
       "├─────┼───────┼───────┼───────┤\n",
       "│ 1   │ 23    │ 65    │ 5     │\n",
       "│ 2   │ 75    │ 57    │ 47    │\n",
       "│ 3   │ 86    │ 9     │ 49    │\n",
       "│ 4   │ 92    │ 17    │ 96    │\n",
       "│ 5   │ 83    │ 53    │ 55    │\n",
       "│ 6   │ 2     │ 8     │ 56    │\n",
       "│ 7   │ 79    │ 77    │ 25    │\n",
       "│ 8   │ 73    │ 91    │ 16    │\n",
       "│ 9   │ 67    │ 91    │ 35    │\n",
       "│ 10  │ 53    │ 29    │ 80    │\n",
       "⋮\n",
       "│ 20  │ 29    │ 20    │ 32    │\n",
       "│ 21  │ 18    │ 42    │ 13    │\n",
       "│ 22  │ 70    │ 41    │ 73    │\n",
       "│ 23  │ 69    │ 42    │ 18    │\n",
       "│ 24  │ 23    │ 52    │ 19    │\n",
       "│ 25  │ 81    │ 78    │ 21    │\n",
       "│ 26  │ 46    │ 36    │ 0     │\n",
       "│ 27  │ 36    │ 51    │ 98    │\n",
       "│ 28  │ 36    │ 74    │ 86    │\n",
       "│ 29  │ 53    │ 25    │ 0     │\n",
       "│ 30  │ 49    │ 54    │ 2     │"
      ]
     },
     "execution_count": 8,
     "metadata": {},
     "output_type": "execute_result"
    }
   ],
   "source": [
    "# Question 6: Import array_1 into a DataFrame named df\n",
    "df = convert(DataFrame, array_1)"
   ]
  },
  {
   "cell_type": "code",
   "execution_count": 9,
   "metadata": {},
   "outputs": [
    {
     "data": {
      "text/html": [
       "<table class=\"data-frame\"><thead><tr><th></th><th>Var1</th><th>Var2</th><th>Var3</th></tr><tr><th></th><th>Int64</th><th>Int64</th><th>Int64</th></tr></thead><tbody><p>30 rows × 3 columns</p><tr><th>1</th><td>23</td><td>65</td><td>5</td></tr><tr><th>2</th><td>75</td><td>57</td><td>47</td></tr><tr><th>3</th><td>86</td><td>9</td><td>49</td></tr><tr><th>4</th><td>92</td><td>17</td><td>96</td></tr><tr><th>5</th><td>83</td><td>53</td><td>55</td></tr><tr><th>6</th><td>2</td><td>8</td><td>56</td></tr><tr><th>7</th><td>79</td><td>77</td><td>25</td></tr><tr><th>8</th><td>73</td><td>91</td><td>16</td></tr><tr><th>9</th><td>67</td><td>91</td><td>35</td></tr><tr><th>10</th><td>53</td><td>29</td><td>80</td></tr><tr><th>11</th><td>98</td><td>7</td><td>5</td></tr><tr><th>12</th><td>83</td><td>70</td><td>89</td></tr><tr><th>13</th><td>24</td><td>0</td><td>58</td></tr><tr><th>14</th><td>50</td><td>15</td><td>76</td></tr><tr><th>15</th><td>71</td><td>34</td><td>34</td></tr><tr><th>16</th><td>32</td><td>75</td><td>82</td></tr><tr><th>17</th><td>20</td><td>31</td><td>27</td></tr><tr><th>18</th><td>89</td><td>73</td><td>71</td></tr><tr><th>19</th><td>1</td><td>71</td><td>39</td></tr><tr><th>20</th><td>29</td><td>20</td><td>32</td></tr><tr><th>21</th><td>18</td><td>42</td><td>13</td></tr><tr><th>22</th><td>70</td><td>41</td><td>73</td></tr><tr><th>23</th><td>69</td><td>42</td><td>18</td></tr><tr><th>24</th><td>23</td><td>52</td><td>19</td></tr><tr><th>25</th><td>81</td><td>78</td><td>21</td></tr><tr><th>26</th><td>46</td><td>36</td><td>0</td></tr><tr><th>27</th><td>36</td><td>51</td><td>98</td></tr><tr><th>28</th><td>36</td><td>74</td><td>86</td></tr><tr><th>29</th><td>53</td><td>25</td><td>0</td></tr><tr><th>30</th><td>49</td><td>54</td><td>2</td></tr></tbody></table>"
      ],
      "text/latex": [
       "\\begin{tabular}{r|ccc}\n",
       "\t& Var1 & Var2 & Var3\\\\\n",
       "\t\\hline\n",
       "\t& Int64 & Int64 & Int64\\\\\n",
       "\t\\hline\n",
       "\t1 & 23 & 65 & 5 \\\\\n",
       "\t2 & 75 & 57 & 47 \\\\\n",
       "\t3 & 86 & 9 & 49 \\\\\n",
       "\t4 & 92 & 17 & 96 \\\\\n",
       "\t5 & 83 & 53 & 55 \\\\\n",
       "\t6 & 2 & 8 & 56 \\\\\n",
       "\t7 & 79 & 77 & 25 \\\\\n",
       "\t8 & 73 & 91 & 16 \\\\\n",
       "\t9 & 67 & 91 & 35 \\\\\n",
       "\t10 & 53 & 29 & 80 \\\\\n",
       "\t11 & 98 & 7 & 5 \\\\\n",
       "\t12 & 83 & 70 & 89 \\\\\n",
       "\t13 & 24 & 0 & 58 \\\\\n",
       "\t14 & 50 & 15 & 76 \\\\\n",
       "\t15 & 71 & 34 & 34 \\\\\n",
       "\t16 & 32 & 75 & 82 \\\\\n",
       "\t17 & 20 & 31 & 27 \\\\\n",
       "\t18 & 89 & 73 & 71 \\\\\n",
       "\t19 & 1 & 71 & 39 \\\\\n",
       "\t20 & 29 & 20 & 32 \\\\\n",
       "\t21 & 18 & 42 & 13 \\\\\n",
       "\t22 & 70 & 41 & 73 \\\\\n",
       "\t23 & 69 & 42 & 18 \\\\\n",
       "\t24 & 23 & 52 & 19 \\\\\n",
       "\t25 & 81 & 78 & 21 \\\\\n",
       "\t26 & 46 & 36 & 0 \\\\\n",
       "\t27 & 36 & 51 & 98 \\\\\n",
       "\t28 & 36 & 74 & 86 \\\\\n",
       "\t29 & 53 & 25 & 0 \\\\\n",
       "\t30 & 49 & 54 & 2 \\\\\n",
       "\\end{tabular}\n"
      ],
      "text/plain": [
       "30×3 DataFrame\n",
       "│ Row │ Var1  │ Var2  │ Var3  │\n",
       "│     │ \u001b[90mInt64\u001b[39m │ \u001b[90mInt64\u001b[39m │ \u001b[90mInt64\u001b[39m │\n",
       "├─────┼───────┼───────┼───────┤\n",
       "│ 1   │ 23    │ 65    │ 5     │\n",
       "│ 2   │ 75    │ 57    │ 47    │\n",
       "│ 3   │ 86    │ 9     │ 49    │\n",
       "│ 4   │ 92    │ 17    │ 96    │\n",
       "│ 5   │ 83    │ 53    │ 55    │\n",
       "│ 6   │ 2     │ 8     │ 56    │\n",
       "│ 7   │ 79    │ 77    │ 25    │\n",
       "│ 8   │ 73    │ 91    │ 16    │\n",
       "│ 9   │ 67    │ 91    │ 35    │\n",
       "│ 10  │ 53    │ 29    │ 80    │\n",
       "⋮\n",
       "│ 20  │ 29    │ 20    │ 32    │\n",
       "│ 21  │ 18    │ 42    │ 13    │\n",
       "│ 22  │ 70    │ 41    │ 73    │\n",
       "│ 23  │ 69    │ 42    │ 18    │\n",
       "│ 24  │ 23    │ 52    │ 19    │\n",
       "│ 25  │ 81    │ 78    │ 21    │\n",
       "│ 26  │ 46    │ 36    │ 0     │\n",
       "│ 27  │ 36    │ 51    │ 98    │\n",
       "│ 28  │ 36    │ 74    │ 86    │\n",
       "│ 29  │ 53    │ 25    │ 0     │\n",
       "│ 30  │ 49    │ 54    │ 2     │"
      ]
     },
     "execution_count": 9,
     "metadata": {},
     "output_type": "execute_result"
    }
   ],
   "source": [
    "# Question 7: Change the names of the columns to Var1, Var2, and Var3\n",
    "names!(df, Symbol.([\"Var1\", \"Var2\", \"Var3\"]))"
   ]
  },
  {
   "cell_type": "code",
   "execution_count": 10,
   "metadata": {},
   "outputs": [
    {
     "data": {
      "text/html": [
       "<table class=\"data-frame\"><thead><tr><th></th><th>Var1</th><th>Var2</th><th>Var3</th></tr><tr><th></th><th>Int64</th><th>Int64</th><th>Int64</th></tr></thead><tbody><p>20 rows × 3 columns</p><tr><th>1</th><td>98</td><td>7</td><td>5</td></tr><tr><th>2</th><td>83</td><td>70</td><td>89</td></tr><tr><th>3</th><td>24</td><td>0</td><td>58</td></tr><tr><th>4</th><td>50</td><td>15</td><td>76</td></tr><tr><th>5</th><td>71</td><td>34</td><td>34</td></tr><tr><th>6</th><td>32</td><td>75</td><td>82</td></tr><tr><th>7</th><td>20</td><td>31</td><td>27</td></tr><tr><th>8</th><td>89</td><td>73</td><td>71</td></tr><tr><th>9</th><td>1</td><td>71</td><td>39</td></tr><tr><th>10</th><td>29</td><td>20</td><td>32</td></tr><tr><th>11</th><td>18</td><td>42</td><td>13</td></tr><tr><th>12</th><td>70</td><td>41</td><td>73</td></tr><tr><th>13</th><td>69</td><td>42</td><td>18</td></tr><tr><th>14</th><td>23</td><td>52</td><td>19</td></tr><tr><th>15</th><td>81</td><td>78</td><td>21</td></tr><tr><th>16</th><td>46</td><td>36</td><td>0</td></tr><tr><th>17</th><td>36</td><td>51</td><td>98</td></tr><tr><th>18</th><td>36</td><td>74</td><td>86</td></tr><tr><th>19</th><td>53</td><td>25</td><td>0</td></tr><tr><th>20</th><td>49</td><td>54</td><td>2</td></tr></tbody></table>"
      ],
      "text/latex": [
       "\\begin{tabular}{r|ccc}\n",
       "\t& Var1 & Var2 & Var3\\\\\n",
       "\t\\hline\n",
       "\t& Int64 & Int64 & Int64\\\\\n",
       "\t\\hline\n",
       "\t1 & 98 & 7 & 5 \\\\\n",
       "\t2 & 83 & 70 & 89 \\\\\n",
       "\t3 & 24 & 0 & 58 \\\\\n",
       "\t4 & 50 & 15 & 76 \\\\\n",
       "\t5 & 71 & 34 & 34 \\\\\n",
       "\t6 & 32 & 75 & 82 \\\\\n",
       "\t7 & 20 & 31 & 27 \\\\\n",
       "\t8 & 89 & 73 & 71 \\\\\n",
       "\t9 & 1 & 71 & 39 \\\\\n",
       "\t10 & 29 & 20 & 32 \\\\\n",
       "\t11 & 18 & 42 & 13 \\\\\n",
       "\t12 & 70 & 41 & 73 \\\\\n",
       "\t13 & 69 & 42 & 18 \\\\\n",
       "\t14 & 23 & 52 & 19 \\\\\n",
       "\t15 & 81 & 78 & 21 \\\\\n",
       "\t16 & 46 & 36 & 0 \\\\\n",
       "\t17 & 36 & 51 & 98 \\\\\n",
       "\t18 & 36 & 74 & 86 \\\\\n",
       "\t19 & 53 & 25 & 0 \\\\\n",
       "\t20 & 49 & 54 & 2 \\\\\n",
       "\\end{tabular}\n"
      ],
      "text/plain": [
       "20×3 DataFrame\n",
       "│ Row │ Var1  │ Var2  │ Var3  │\n",
       "│     │ \u001b[90mInt64\u001b[39m │ \u001b[90mInt64\u001b[39m │ \u001b[90mInt64\u001b[39m │\n",
       "├─────┼───────┼───────┼───────┤\n",
       "│ 1   │ 98    │ 7     │ 5     │\n",
       "│ 2   │ 83    │ 70    │ 89    │\n",
       "│ 3   │ 24    │ 0     │ 58    │\n",
       "│ 4   │ 50    │ 15    │ 76    │\n",
       "│ 5   │ 71    │ 34    │ 34    │\n",
       "│ 6   │ 32    │ 75    │ 82    │\n",
       "│ 7   │ 20    │ 31    │ 27    │\n",
       "│ 8   │ 89    │ 73    │ 71    │\n",
       "│ 9   │ 1     │ 71    │ 39    │\n",
       "│ 10  │ 29    │ 20    │ 32    │\n",
       "│ 11  │ 18    │ 42    │ 13    │\n",
       "│ 12  │ 70    │ 41    │ 73    │\n",
       "│ 13  │ 69    │ 42    │ 18    │\n",
       "│ 14  │ 23    │ 52    │ 19    │\n",
       "│ 15  │ 81    │ 78    │ 21    │\n",
       "│ 16  │ 46    │ 36    │ 0     │\n",
       "│ 17  │ 36    │ 51    │ 98    │\n",
       "│ 18  │ 36    │ 74    │ 86    │\n",
       "│ 19  │ 53    │ 25    │ 0     │\n",
       "│ 20  │ 49    │ 54    │ 2     │"
      ]
     },
     "execution_count": 10,
     "metadata": {},
     "output_type": "execute_result"
    }
   ],
   "source": [
    "# Question 8: Create and new DataFrame named df2 from the last 20 rows of df\n",
    "df2 = df[end-19:end,:]"
   ]
  },
  {
   "cell_type": "code",
   "execution_count": 11,
   "metadata": {},
   "outputs": [
    {
     "data": {
      "text/html": [
       "<table class=\"data-frame\"><thead><tr><th></th><th>variable</th><th>mean</th><th>min</th><th>median</th><th>max</th><th>nunique</th><th>nmissing</th><th>eltype</th></tr><tr><th></th><th>Symbol</th><th>Float64</th><th>Int64</th><th>Float64</th><th>Int64</th><th>Nothing</th><th>Nothing</th><th>DataType</th></tr></thead><tbody><p>3 rows × 8 columns</p><tr><th>1</th><td>Var1</td><td>48.9</td><td>1</td><td>47.5</td><td>98</td><td></td><td></td><td>Int64</td></tr><tr><th>2</th><td>Var2</td><td>44.55</td><td>0</td><td>42.0</td><td>78</td><td></td><td></td><td>Int64</td></tr><tr><th>3</th><td>Var3</td><td>42.15</td><td>0</td><td>33.0</td><td>98</td><td></td><td></td><td>Int64</td></tr></tbody></table>"
      ],
      "text/latex": [
       "\\begin{tabular}{r|cccccccc}\n",
       "\t& variable & mean & min & median & max & nunique & nmissing & eltype\\\\\n",
       "\t\\hline\n",
       "\t& Symbol & Float64 & Int64 & Float64 & Int64 & Nothing & Nothing & DataType\\\\\n",
       "\t\\hline\n",
       "\t1 & Var1 & 48.9 & 1 & 47.5 & 98 &  &  & Int64 \\\\\n",
       "\t2 & Var2 & 44.55 & 0 & 42.0 & 78 &  &  & Int64 \\\\\n",
       "\t3 & Var3 & 42.15 & 0 & 33.0 & 98 &  &  & Int64 \\\\\n",
       "\\end{tabular}\n"
      ],
      "text/plain": [
       "3×8 DataFrame. Omitted printing of 1 columns\n",
       "│ Row │ variable │ mean    │ min   │ median  │ max   │ nunique │ nmissing │\n",
       "│     │ \u001b[90mSymbol\u001b[39m   │ \u001b[90mFloat64\u001b[39m │ \u001b[90mInt64\u001b[39m │ \u001b[90mFloat64\u001b[39m │ \u001b[90mInt64\u001b[39m │ \u001b[90mNothing\u001b[39m │ \u001b[90mNothing\u001b[39m  │\n",
       "├─────┼──────────┼─────────┼───────┼─────────┼───────┼─────────┼──────────┤\n",
       "│ 1   │ Var1     │ 48.9    │ 1     │ 47.5    │ 98    │         │          │\n",
       "│ 2   │ Var2     │ 44.55   │ 0     │ 42.0    │ 78    │         │          │\n",
       "│ 3   │ Var3     │ 42.15   │ 0     │ 33.0    │ 98    │         │          │"
      ]
     },
     "execution_count": 11,
     "metadata": {},
     "output_type": "execute_result"
    }
   ],
   "source": [
    "# Question 9: Calculate simple descriptive statistics of all the columns in df2 using the describe() function\n",
    "describe(df2)"
   ]
  },
  {
   "cell_type": "code",
   "execution_count": 12,
   "metadata": {},
   "outputs": [
    {
     "name": "stderr",
     "output_type": "stream",
     "text": [
      "┌ Warning: `setindex!(df::DataFrame, v::AbstractVector, col_ind::ColumnIndex)` is deprecated, use `begin\n",
      "│     df[!, col_ind] = v\n",
      "│     df\n",
      "│ end` instead.\n",
      "│   caller = top-level scope at In[12]:1\n",
      "└ @ Core In[12]:1\n"
     ]
    },
    {
     "data": {
      "text/plain": [
       "20-element Array{String,1}:\n",
       " \"GroupA\"\n",
       " \"GroupB\"\n",
       " \"GroupA\"\n",
       " \"GroupB\"\n",
       " \"GroupA\"\n",
       " \"GroupA\"\n",
       " \"GroupB\"\n",
       " \"GroupB\"\n",
       " \"GroupA\"\n",
       " \"GroupA\"\n",
       " \"GroupA\"\n",
       " \"GroupB\"\n",
       " \"GroupB\"\n",
       " \"GroupA\"\n",
       " \"GroupB\"\n",
       " \"GroupA\"\n",
       " \"GroupA\"\n",
       " \"GroupA\"\n",
       " \"GroupA\"\n",
       " \"GroupB\""
      ]
     },
     "execution_count": 12,
     "metadata": {},
     "output_type": "execute_result"
    }
   ],
   "source": [
    "# Question 10: Add a column to df2 named Cat1 to df2 consisting of randomly selecting either the strings GroupA or GroupB\n",
    "df2[:Cat1] = rand([\"GroupA\", \"GroupB\"], 20)"
   ]
  },
  {
   "cell_type": "code",
   "execution_count": 13,
   "metadata": {},
   "outputs": [
    {
     "data": {
      "text/html": [
       "<table class=\"data-frame\"><thead><tr><th></th><th>Var1</th><th>Var2</th><th>Var3</th><th>Cat1</th></tr><tr><th></th><th>Int64</th><th>Int64</th><th>Int64</th><th>String</th></tr></thead><tbody><p>20 rows × 4 columns</p><tr><th>1</th><td>98</td><td>7</td><td>5</td><td>GroupA</td></tr><tr><th>2</th><td>83</td><td>70</td><td>89</td><td>GroupB</td></tr><tr><th>3</th><td>24</td><td>0</td><td>58</td><td>GroupA</td></tr><tr><th>4</th><td>50</td><td>15</td><td>76</td><td>GroupB</td></tr><tr><th>5</th><td>71</td><td>34</td><td>34</td><td>GroupA</td></tr><tr><th>6</th><td>32</td><td>75</td><td>82</td><td>GroupA</td></tr><tr><th>7</th><td>20</td><td>31</td><td>27</td><td>GroupB</td></tr><tr><th>8</th><td>89</td><td>73</td><td>71</td><td>GroupB</td></tr><tr><th>9</th><td>1</td><td>71</td><td>39</td><td>GroupA</td></tr><tr><th>10</th><td>29</td><td>20</td><td>32</td><td>GroupA</td></tr><tr><th>11</th><td>18</td><td>42</td><td>13</td><td>GroupA</td></tr><tr><th>12</th><td>70</td><td>41</td><td>73</td><td>GroupB</td></tr><tr><th>13</th><td>69</td><td>42</td><td>18</td><td>GroupB</td></tr><tr><th>14</th><td>23</td><td>52</td><td>19</td><td>GroupA</td></tr><tr><th>15</th><td>81</td><td>78</td><td>21</td><td>GroupB</td></tr><tr><th>16</th><td>46</td><td>36</td><td>0</td><td>GroupA</td></tr><tr><th>17</th><td>36</td><td>51</td><td>98</td><td>GroupA</td></tr><tr><th>18</th><td>36</td><td>74</td><td>86</td><td>GroupA</td></tr><tr><th>19</th><td>53</td><td>25</td><td>0</td><td>GroupA</td></tr><tr><th>20</th><td>49</td><td>54</td><td>2</td><td>GroupB</td></tr></tbody></table>"
      ],
      "text/latex": [
       "\\begin{tabular}{r|cccc}\n",
       "\t& Var1 & Var2 & Var3 & Cat1\\\\\n",
       "\t\\hline\n",
       "\t& Int64 & Int64 & Int64 & String\\\\\n",
       "\t\\hline\n",
       "\t1 & 98 & 7 & 5 & GroupA \\\\\n",
       "\t2 & 83 & 70 & 89 & GroupB \\\\\n",
       "\t3 & 24 & 0 & 58 & GroupA \\\\\n",
       "\t4 & 50 & 15 & 76 & GroupB \\\\\n",
       "\t5 & 71 & 34 & 34 & GroupA \\\\\n",
       "\t6 & 32 & 75 & 82 & GroupA \\\\\n",
       "\t7 & 20 & 31 & 27 & GroupB \\\\\n",
       "\t8 & 89 & 73 & 71 & GroupB \\\\\n",
       "\t9 & 1 & 71 & 39 & GroupA \\\\\n",
       "\t10 & 29 & 20 & 32 & GroupA \\\\\n",
       "\t11 & 18 & 42 & 13 & GroupA \\\\\n",
       "\t12 & 70 & 41 & 73 & GroupB \\\\\n",
       "\t13 & 69 & 42 & 18 & GroupB \\\\\n",
       "\t14 & 23 & 52 & 19 & GroupA \\\\\n",
       "\t15 & 81 & 78 & 21 & GroupB \\\\\n",
       "\t16 & 46 & 36 & 0 & GroupA \\\\\n",
       "\t17 & 36 & 51 & 98 & GroupA \\\\\n",
       "\t18 & 36 & 74 & 86 & GroupA \\\\\n",
       "\t19 & 53 & 25 & 0 & GroupA \\\\\n",
       "\t20 & 49 & 54 & 2 & GroupB \\\\\n",
       "\\end{tabular}\n"
      ],
      "text/plain": [
       "20×4 DataFrame\n",
       "│ Row │ Var1  │ Var2  │ Var3  │ Cat1   │\n",
       "│     │ \u001b[90mInt64\u001b[39m │ \u001b[90mInt64\u001b[39m │ \u001b[90mInt64\u001b[39m │ \u001b[90mString\u001b[39m │\n",
       "├─────┼───────┼───────┼───────┼────────┤\n",
       "│ 1   │ 98    │ 7     │ 5     │ GroupA │\n",
       "│ 2   │ 83    │ 70    │ 89    │ GroupB │\n",
       "│ 3   │ 24    │ 0     │ 58    │ GroupA │\n",
       "│ 4   │ 50    │ 15    │ 76    │ GroupB │\n",
       "│ 5   │ 71    │ 34    │ 34    │ GroupA │\n",
       "│ 6   │ 32    │ 75    │ 82    │ GroupA │\n",
       "│ 7   │ 20    │ 31    │ 27    │ GroupB │\n",
       "│ 8   │ 89    │ 73    │ 71    │ GroupB │\n",
       "│ 9   │ 1     │ 71    │ 39    │ GroupA │\n",
       "│ 10  │ 29    │ 20    │ 32    │ GroupA │\n",
       "│ 11  │ 18    │ 42    │ 13    │ GroupA │\n",
       "│ 12  │ 70    │ 41    │ 73    │ GroupB │\n",
       "│ 13  │ 69    │ 42    │ 18    │ GroupB │\n",
       "│ 14  │ 23    │ 52    │ 19    │ GroupA │\n",
       "│ 15  │ 81    │ 78    │ 21    │ GroupB │\n",
       "│ 16  │ 46    │ 36    │ 0     │ GroupA │\n",
       "│ 17  │ 36    │ 51    │ 98    │ GroupA │\n",
       "│ 18  │ 36    │ 74    │ 86    │ GroupA │\n",
       "│ 19  │ 53    │ 25    │ 0     │ GroupA │\n",
       "│ 20  │ 49    │ 54    │ 2     │ GroupB │"
      ]
     },
     "execution_count": 13,
     "metadata": {},
     "output_type": "execute_result"
    }
   ],
   "source": [
    "df2"
   ]
  },
  {
   "cell_type": "code",
   "execution_count": 14,
   "metadata": {},
   "outputs": [
    {
     "data": {
      "text/html": [
       "<table class=\"data-frame\"><thead><tr><th></th></tr><tr><th></th></tr></thead><tbody><p>0 rows × 0 columns</p></tbody></table>"
      ],
      "text/latex": [
       "\\begin{tabular}{r|}\n",
       "\t& \\\\\n",
       "\t\\hline\n",
       "\t& \\\\\n",
       "\t\\hline\n",
       "\\end{tabular}\n"
      ],
      "text/plain": [
       "0×0 DataFrame\n"
      ]
     },
     "execution_count": 14,
     "metadata": {},
     "output_type": "execute_result"
    }
   ],
   "source": [
    "# Question 11: Create a new DataFrame named df3\n",
    "df3 = DataFrame()"
   ]
  },
  {
   "cell_type": "code",
   "execution_count": 15,
   "metadata": {},
   "outputs": [],
   "source": [
    "# Question 12: Change indicated values to empty entries\n",
    "#unclear "
   ]
  },
  {
   "cell_type": "code",
   "execution_count": 16,
   "metadata": {},
   "outputs": [],
   "source": [
    "# Question 13: Create DataFrame df4 that contains no rows with NaN (NA) values\n",
    "#unclear! "
   ]
  },
  {
   "cell_type": "markdown",
   "metadata": {},
   "source": [
    "# Start of code as per the assignment instructions "
   ]
  },
  {
   "cell_type": "code",
   "execution_count": 24,
   "metadata": {},
   "outputs": [
    {
     "data": {
      "text/html": [
       "<table class=\"data-frame\"><thead><tr><th></th><th>id</th><th>var1</th><th>var2</th><th>var3</th></tr><tr><th></th><th>Int64</th><th>Float64</th><th>Float64</th><th>Int64</th></tr></thead><tbody><p>30 rows × 4 columns</p><tr><th>1</th><td>1</td><td>-1.86009</td><td>9.19165</td><td>13</td></tr><tr><th>2</th><td>2</td><td>0.620464</td><td>11.4841</td><td>13</td></tr><tr><th>3</th><td>3</td><td>-1.34798</td><td>9.86681</td><td>11</td></tr><tr><th>4</th><td>4</td><td>0.380092</td><td>10.3664</td><td>9</td></tr><tr><th>5</th><td>5</td><td>-1.17812</td><td>11.9502</td><td>13</td></tr><tr><th>6</th><td>6</td><td>0.73909</td><td>9.63023</td><td>10</td></tr><tr><th>7</th><td>7</td><td>0.545716</td><td>11.6234</td><td>15</td></tr><tr><th>8</th><td>8</td><td>-0.322707</td><td>11.7713</td><td>5</td></tr><tr><th>9</th><td>9</td><td>0.389462</td><td>10.8972</td><td>10</td></tr><tr><th>10</th><td>10</td><td>1.97344</td><td>12.0216</td><td>6</td></tr><tr><th>11</th><td>11</td><td>-1.17801</td><td>8.96203</td><td>8</td></tr><tr><th>12</th><td>12</td><td>0.377104</td><td>8.5063</td><td>14</td></tr><tr><th>13</th><td>13</td><td>0.28965</td><td>13.3826</td><td>5</td></tr><tr><th>14</th><td>14</td><td>0.439391</td><td>10.742</td><td>10</td></tr><tr><th>15</th><td>15</td><td>0.166789</td><td>10.127</td><td>11</td></tr><tr><th>16</th><td>16</td><td>-0.608117</td><td>8.84621</td><td>9</td></tr><tr><th>17</th><td>17</td><td>-1.57543</td><td>9.73089</td><td>7</td></tr><tr><th>18</th><td>18</td><td>-1.31724</td><td>9.97798</td><td>12</td></tr><tr><th>19</th><td>19</td><td>-1.0044</td><td>11.8124</td><td>6</td></tr><tr><th>20</th><td>20</td><td>-0.119859</td><td>7.44903</td><td>9</td></tr><tr><th>21</th><td>21</td><td>0.250064</td><td>10.5556</td><td>11</td></tr><tr><th>22</th><td>22</td><td>0.860593</td><td>5.16572</td><td>11</td></tr><tr><th>23</th><td>23</td><td>-0.714061</td><td>9.73093</td><td>13</td></tr><tr><th>24</th><td>24</td><td>0.360856</td><td>10.1584</td><td>14</td></tr><tr><th>25</th><td>25</td><td>-1.1243</td><td>10.2683</td><td>12</td></tr><tr><th>26</th><td>26</td><td>0.0415299</td><td>8.59164</td><td>13</td></tr><tr><th>27</th><td>27</td><td>-0.496601</td><td>9.40441</td><td>9</td></tr><tr><th>28</th><td>28</td><td>1.54361</td><td>7.1512</td><td>7</td></tr><tr><th>29</th><td>29</td><td>0.653686</td><td>8.15625</td><td>11</td></tr><tr><th>30</th><td>30</td><td>-0.416119</td><td>10.9082</td><td>10</td></tr></tbody></table>"
      ],
      "text/latex": [
       "\\begin{tabular}{r|cccc}\n",
       "\t& id & var1 & var2 & var3\\\\\n",
       "\t\\hline\n",
       "\t& Int64 & Float64 & Float64 & Int64\\\\\n",
       "\t\\hline\n",
       "\t1 & 1 & -1.86009 & 9.19165 & 13 \\\\\n",
       "\t2 & 2 & 0.620464 & 11.4841 & 13 \\\\\n",
       "\t3 & 3 & -1.34798 & 9.86681 & 11 \\\\\n",
       "\t4 & 4 & 0.380092 & 10.3664 & 9 \\\\\n",
       "\t5 & 5 & -1.17812 & 11.9502 & 13 \\\\\n",
       "\t6 & 6 & 0.73909 & 9.63023 & 10 \\\\\n",
       "\t7 & 7 & 0.545716 & 11.6234 & 15 \\\\\n",
       "\t8 & 8 & -0.322707 & 11.7713 & 5 \\\\\n",
       "\t9 & 9 & 0.389462 & 10.8972 & 10 \\\\\n",
       "\t10 & 10 & 1.97344 & 12.0216 & 6 \\\\\n",
       "\t11 & 11 & -1.17801 & 8.96203 & 8 \\\\\n",
       "\t12 & 12 & 0.377104 & 8.5063 & 14 \\\\\n",
       "\t13 & 13 & 0.28965 & 13.3826 & 5 \\\\\n",
       "\t14 & 14 & 0.439391 & 10.742 & 10 \\\\\n",
       "\t15 & 15 & 0.166789 & 10.127 & 11 \\\\\n",
       "\t16 & 16 & -0.608117 & 8.84621 & 9 \\\\\n",
       "\t17 & 17 & -1.57543 & 9.73089 & 7 \\\\\n",
       "\t18 & 18 & -1.31724 & 9.97798 & 12 \\\\\n",
       "\t19 & 19 & -1.0044 & 11.8124 & 6 \\\\\n",
       "\t20 & 20 & -0.119859 & 7.44903 & 9 \\\\\n",
       "\t21 & 21 & 0.250064 & 10.5556 & 11 \\\\\n",
       "\t22 & 22 & 0.860593 & 5.16572 & 11 \\\\\n",
       "\t23 & 23 & -0.714061 & 9.73093 & 13 \\\\\n",
       "\t24 & 24 & 0.360856 & 10.1584 & 14 \\\\\n",
       "\t25 & 25 & -1.1243 & 10.2683 & 12 \\\\\n",
       "\t26 & 26 & 0.0415299 & 8.59164 & 13 \\\\\n",
       "\t27 & 27 & -0.496601 & 9.40441 & 9 \\\\\n",
       "\t28 & 28 & 1.54361 & 7.1512 & 7 \\\\\n",
       "\t29 & 29 & 0.653686 & 8.15625 & 11 \\\\\n",
       "\t30 & 30 & -0.416119 & 10.9082 & 10 \\\\\n",
       "\\end{tabular}\n"
      ],
      "text/plain": [
       "30×4 DataFrame\n",
       "│ Row │ id    │ var1      │ var2    │ var3  │\n",
       "│     │ \u001b[90mInt64\u001b[39m │ \u001b[90mFloat64\u001b[39m   │ \u001b[90mFloat64\u001b[39m │ \u001b[90mInt64\u001b[39m │\n",
       "├─────┼───────┼───────────┼─────────┼───────┤\n",
       "│ 1   │ 1     │ -1.86009  │ 9.19165 │ 13    │\n",
       "│ 2   │ 2     │ 0.620464  │ 11.4841 │ 13    │\n",
       "│ 3   │ 3     │ -1.34798  │ 9.86681 │ 11    │\n",
       "│ 4   │ 4     │ 0.380092  │ 10.3664 │ 9     │\n",
       "│ 5   │ 5     │ -1.17812  │ 11.9502 │ 13    │\n",
       "│ 6   │ 6     │ 0.73909   │ 9.63023 │ 10    │\n",
       "│ 7   │ 7     │ 0.545716  │ 11.6234 │ 15    │\n",
       "│ 8   │ 8     │ -0.322707 │ 11.7713 │ 5     │\n",
       "│ 9   │ 9     │ 0.389462  │ 10.8972 │ 10    │\n",
       "│ 10  │ 10    │ 1.97344   │ 12.0216 │ 6     │\n",
       "⋮\n",
       "│ 20  │ 20    │ -0.119859 │ 7.44903 │ 9     │\n",
       "│ 21  │ 21    │ 0.250064  │ 10.5556 │ 11    │\n",
       "│ 22  │ 22    │ 0.860593  │ 5.16572 │ 11    │\n",
       "│ 23  │ 23    │ -0.714061 │ 9.73093 │ 13    │\n",
       "│ 24  │ 24    │ 0.360856  │ 10.1584 │ 14    │\n",
       "│ 25  │ 25    │ -1.1243   │ 10.2683 │ 12    │\n",
       "│ 26  │ 26    │ 0.0415299 │ 8.59164 │ 13    │\n",
       "│ 27  │ 27    │ -0.496601 │ 9.40441 │ 9     │\n",
       "│ 28  │ 28    │ 1.54361   │ 7.1512  │ 7     │\n",
       "│ 29  │ 29    │ 0.653686  │ 8.15625 │ 11    │\n",
       "│ 30  │ 30    │ -0.416119 │ 10.9082 │ 10    │"
      ]
     },
     "execution_count": 24,
     "metadata": {},
     "output_type": "execute_result"
    }
   ],
   "source": [
    "#In a code cell below, create a dataframe named df1, with 30 rows and 4 columns (variables).\n",
    "#Call the first column ID. It should hold the values 1 through 30 (to make up 30 rows). \n",
    "#Use three rand() function calls to generate three more columns named var1, var2, and var3. \n",
    "#The second column (var1) should consist of 30 values from a standard normal distribution (mean of 0 and standard deviation of 1). \n",
    "#The third column (var2) should consist of 30 random value from a normal distribution with a mean of 10 and a standard deviation of 2. \n",
    "#The last column (var3) should contain 30 random values chosen from a range of integers between (and including) 5 and 15.\n",
    "\n",
    "n = Distributions.Normal\n",
    "df1 = DataFrame(id = collect(1:30), var1 = rand(n(),30), var2 = rand(n(10,2),30), var3 = rand(5:15, 30)) "
   ]
  },
  {
   "cell_type": "code",
   "execution_count": 25,
   "metadata": {},
   "outputs": [
    {
     "name": "stdout",
     "output_type": "stream",
     "text": [
      "for col id μ is 15.5, and σ² is 77.5\n",
      "for col var1 μ is -0.12104966086319444, and σ² is 0.8666467395338444\n",
      "for col var2 μ is 9.947667794369552, and σ² is 2.847259144787765\n",
      "for col var3 μ is 10.233333333333333, and σ² is 7.633333333333333\n"
     ]
    },
    {
     "name": "stderr",
     "output_type": "stream",
     "text": [
      "┌ Warning: `getindex(df::DataFrame, col_ind::ColumnIndex)` is deprecated, use `df[!, col_ind]` instead.\n",
      "│   caller = top-level scope at In[25]:5\n",
      "└ @ Core .\\In[25]:5\n",
      "┌ Warning: `getindex(df::DataFrame, col_ind::ColumnIndex)` is deprecated, use `df[!, col_ind]` instead.\n",
      "│   caller = top-level scope at In[25]:5\n",
      "└ @ Core .\\In[25]:5\n"
     ]
    }
   ],
   "source": [
    "# In code cells below, write the code to calculate the mean and variance of each column in the dataframe. \n",
    "# For example for the first variable this could be done using the println function and referring to each column (variable) by its symbol notation. \n",
    "# Try to shorten the code with a for-loop, iterating over the variables names (in symbol format).\n",
    "for n in names(df1)\n",
    "    println(\"for col $(n) μ is $(mean(df1[n])), and σ² is $(var(df1[n]))\")\n",
    "end"
   ]
  },
  {
   "cell_type": "code",
   "execution_count": 26,
   "metadata": {},
   "outputs": [
    {
     "data": {
      "text/html": [
       "<table class=\"data-frame\"><thead><tr><th></th><th>id</th><th>var1</th><th>var2</th><th>var3</th></tr><tr><th></th><th>Int64</th><th>Float64</th><th>Float64</th><th>Int64</th></tr></thead><tbody><p>20 rows × 4 columns</p><tr><th>1</th><td>11</td><td>-1.17801</td><td>8.96203</td><td>8</td></tr><tr><th>2</th><td>12</td><td>0.377104</td><td>8.5063</td><td>14</td></tr><tr><th>3</th><td>13</td><td>0.28965</td><td>13.3826</td><td>5</td></tr><tr><th>4</th><td>14</td><td>0.439391</td><td>10.742</td><td>10</td></tr><tr><th>5</th><td>15</td><td>0.166789</td><td>10.127</td><td>11</td></tr><tr><th>6</th><td>16</td><td>-0.608117</td><td>8.84621</td><td>9</td></tr><tr><th>7</th><td>17</td><td>-1.57543</td><td>9.73089</td><td>7</td></tr><tr><th>8</th><td>18</td><td>-1.31724</td><td>9.97798</td><td>12</td></tr><tr><th>9</th><td>19</td><td>-1.0044</td><td>11.8124</td><td>6</td></tr><tr><th>10</th><td>20</td><td>-0.119859</td><td>7.44903</td><td>9</td></tr><tr><th>11</th><td>21</td><td>0.250064</td><td>10.5556</td><td>11</td></tr><tr><th>12</th><td>22</td><td>0.860593</td><td>5.16572</td><td>11</td></tr><tr><th>13</th><td>23</td><td>-0.714061</td><td>9.73093</td><td>13</td></tr><tr><th>14</th><td>24</td><td>0.360856</td><td>10.1584</td><td>14</td></tr><tr><th>15</th><td>25</td><td>-1.1243</td><td>10.2683</td><td>12</td></tr><tr><th>16</th><td>26</td><td>0.0415299</td><td>8.59164</td><td>13</td></tr><tr><th>17</th><td>27</td><td>-0.496601</td><td>9.40441</td><td>9</td></tr><tr><th>18</th><td>28</td><td>1.54361</td><td>7.1512</td><td>7</td></tr><tr><th>19</th><td>29</td><td>0.653686</td><td>8.15625</td><td>11</td></tr><tr><th>20</th><td>30</td><td>-0.416119</td><td>10.9082</td><td>10</td></tr></tbody></table>"
      ],
      "text/latex": [
       "\\begin{tabular}{r|cccc}\n",
       "\t& id & var1 & var2 & var3\\\\\n",
       "\t\\hline\n",
       "\t& Int64 & Float64 & Float64 & Int64\\\\\n",
       "\t\\hline\n",
       "\t1 & 11 & -1.17801 & 8.96203 & 8 \\\\\n",
       "\t2 & 12 & 0.377104 & 8.5063 & 14 \\\\\n",
       "\t3 & 13 & 0.28965 & 13.3826 & 5 \\\\\n",
       "\t4 & 14 & 0.439391 & 10.742 & 10 \\\\\n",
       "\t5 & 15 & 0.166789 & 10.127 & 11 \\\\\n",
       "\t6 & 16 & -0.608117 & 8.84621 & 9 \\\\\n",
       "\t7 & 17 & -1.57543 & 9.73089 & 7 \\\\\n",
       "\t8 & 18 & -1.31724 & 9.97798 & 12 \\\\\n",
       "\t9 & 19 & -1.0044 & 11.8124 & 6 \\\\\n",
       "\t10 & 20 & -0.119859 & 7.44903 & 9 \\\\\n",
       "\t11 & 21 & 0.250064 & 10.5556 & 11 \\\\\n",
       "\t12 & 22 & 0.860593 & 5.16572 & 11 \\\\\n",
       "\t13 & 23 & -0.714061 & 9.73093 & 13 \\\\\n",
       "\t14 & 24 & 0.360856 & 10.1584 & 14 \\\\\n",
       "\t15 & 25 & -1.1243 & 10.2683 & 12 \\\\\n",
       "\t16 & 26 & 0.0415299 & 8.59164 & 13 \\\\\n",
       "\t17 & 27 & -0.496601 & 9.40441 & 9 \\\\\n",
       "\t18 & 28 & 1.54361 & 7.1512 & 7 \\\\\n",
       "\t19 & 29 & 0.653686 & 8.15625 & 11 \\\\\n",
       "\t20 & 30 & -0.416119 & 10.9082 & 10 \\\\\n",
       "\\end{tabular}\n"
      ],
      "text/plain": [
       "20×4 DataFrame\n",
       "│ Row │ id    │ var1      │ var2    │ var3  │\n",
       "│     │ \u001b[90mInt64\u001b[39m │ \u001b[90mFloat64\u001b[39m   │ \u001b[90mFloat64\u001b[39m │ \u001b[90mInt64\u001b[39m │\n",
       "├─────┼───────┼───────────┼─────────┼───────┤\n",
       "│ 1   │ 11    │ -1.17801  │ 8.96203 │ 8     │\n",
       "│ 2   │ 12    │ 0.377104  │ 8.5063  │ 14    │\n",
       "│ 3   │ 13    │ 0.28965   │ 13.3826 │ 5     │\n",
       "│ 4   │ 14    │ 0.439391  │ 10.742  │ 10    │\n",
       "│ 5   │ 15    │ 0.166789  │ 10.127  │ 11    │\n",
       "│ 6   │ 16    │ -0.608117 │ 8.84621 │ 9     │\n",
       "│ 7   │ 17    │ -1.57543  │ 9.73089 │ 7     │\n",
       "│ 8   │ 18    │ -1.31724  │ 9.97798 │ 12    │\n",
       "│ 9   │ 19    │ -1.0044   │ 11.8124 │ 6     │\n",
       "│ 10  │ 20    │ -0.119859 │ 7.44903 │ 9     │\n",
       "│ 11  │ 21    │ 0.250064  │ 10.5556 │ 11    │\n",
       "│ 12  │ 22    │ 0.860593  │ 5.16572 │ 11    │\n",
       "│ 13  │ 23    │ -0.714061 │ 9.73093 │ 13    │\n",
       "│ 14  │ 24    │ 0.360856  │ 10.1584 │ 14    │\n",
       "│ 15  │ 25    │ -1.1243   │ 10.2683 │ 12    │\n",
       "│ 16  │ 26    │ 0.0415299 │ 8.59164 │ 13    │\n",
       "│ 17  │ 27    │ -0.496601 │ 9.40441 │ 9     │\n",
       "│ 18  │ 28    │ 1.54361   │ 7.1512  │ 7     │\n",
       "│ 19  │ 29    │ 0.653686  │ 8.15625 │ 11    │\n",
       "│ 20  │ 30    │ -0.416119 │ 10.9082 │ 10    │"
      ]
     },
     "execution_count": 26,
     "metadata": {},
     "output_type": "execute_result"
    }
   ],
   "source": [
    "#In a code cells below, create a new DataFrame named df2 from the last 20 rows of the original DataFrame, df1.\n",
    "df2 = df1[end-19:end,:]"
   ]
  },
  {
   "cell_type": "code",
   "execution_count": 27,
   "metadata": {},
   "outputs": [
    {
     "data": {
      "text/html": [
       "<table class=\"data-frame\"><thead><tr><th></th><th>variable</th><th>mean</th><th>min</th><th>median</th><th>max</th><th>nunique</th><th>nmissing</th><th>eltype</th></tr><tr><th></th><th>Symbol</th><th>Float64</th><th>Real</th><th>Float64</th><th>Real</th><th>Nothing</th><th>Nothing</th><th>DataType</th></tr></thead><tbody><p>4 rows × 8 columns</p><tr><th>1</th><td>id</td><td>20.5</td><td>11</td><td>20.5</td><td>30</td><td></td><td></td><td>Int64</td></tr><tr><th>2</th><td>var1</td><td>-0.178543</td><td>-1.57543</td><td>-0.0391646</td><td>1.54361</td><td></td><td></td><td>Float64</td></tr><tr><th>3</th><td>var2</td><td>9.48136</td><td>5.16572</td><td>9.73091</td><td>13.3826</td><td></td><td></td><td>Float64</td></tr><tr><th>4</th><td>var3</td><td>10.1</td><td>5</td><td>10.5</td><td>14</td><td></td><td></td><td>Int64</td></tr></tbody></table>"
      ],
      "text/latex": [
       "\\begin{tabular}{r|cccccccc}\n",
       "\t& variable & mean & min & median & max & nunique & nmissing & eltype\\\\\n",
       "\t\\hline\n",
       "\t& Symbol & Float64 & Real & Float64 & Real & Nothing & Nothing & DataType\\\\\n",
       "\t\\hline\n",
       "\t1 & id & 20.5 & 11 & 20.5 & 30 &  &  & Int64 \\\\\n",
       "\t2 & var1 & -0.178543 & -1.57543 & -0.0391646 & 1.54361 &  &  & Float64 \\\\\n",
       "\t3 & var2 & 9.48136 & 5.16572 & 9.73091 & 13.3826 &  &  & Float64 \\\\\n",
       "\t4 & var3 & 10.1 & 5 & 10.5 & 14 &  &  & Int64 \\\\\n",
       "\\end{tabular}\n"
      ],
      "text/plain": [
       "4×8 DataFrame. Omitted printing of 2 columns\n",
       "│ Row │ variable │ mean      │ min      │ median     │ max     │ nunique │\n",
       "│     │ \u001b[90mSymbol\u001b[39m   │ \u001b[90mFloat64\u001b[39m   │ \u001b[90mReal\u001b[39m     │ \u001b[90mFloat64\u001b[39m    │ \u001b[90mReal\u001b[39m    │ \u001b[90mNothing\u001b[39m │\n",
       "├─────┼──────────┼───────────┼──────────┼────────────┼─────────┼─────────┤\n",
       "│ 1   │ id       │ 20.5      │ 11       │ 20.5       │ 30      │         │\n",
       "│ 2   │ var1     │ -0.178543 │ -1.57543 │ -0.0391646 │ 1.54361 │         │\n",
       "│ 3   │ var2     │ 9.48136   │ 5.16572  │ 9.73091    │ 13.3826 │         │\n",
       "│ 4   │ var3     │ 10.1      │ 5        │ 10.5       │ 14      │         │"
      ]
     },
     "execution_count": 27,
     "metadata": {},
     "output_type": "execute_result"
    }
   ],
   "source": [
    "#In a code cells below, show the results of computing simple descriptive statistics on this new DataFrame using the describe() function.\n",
    "describe(df2)"
   ]
  },
  {
   "cell_type": "code",
   "execution_count": 28,
   "metadata": {},
   "outputs": [
    {
     "name": "stderr",
     "output_type": "stream",
     "text": [
      "┌ Warning: `setindex!(df::DataFrame, v::AbstractVector, col_ind::ColumnIndex)` is deprecated, use `begin\n",
      "│     df[!, col_ind] = v\n",
      "│     df\n",
      "│ end` instead.\n",
      "│   caller = top-level scope at In[28]:1\n",
      "└ @ Core In[28]:1\n"
     ]
    },
    {
     "data": {
      "text/html": [
       "<table class=\"data-frame\"><thead><tr><th></th><th>id</th><th>var1</th><th>var2</th><th>var3</th><th>cat1</th></tr><tr><th></th><th>Int64</th><th>Float64</th><th>Float64</th><th>Int64</th><th>String</th></tr></thead><tbody><p>20 rows × 5 columns</p><tr><th>1</th><td>11</td><td>-1.17801</td><td>8.96203</td><td>8</td><td>GroupA</td></tr><tr><th>2</th><td>12</td><td>0.377104</td><td>8.5063</td><td>14</td><td>GroupA</td></tr><tr><th>3</th><td>13</td><td>0.28965</td><td>13.3826</td><td>5</td><td>GroupB</td></tr><tr><th>4</th><td>14</td><td>0.439391</td><td>10.742</td><td>10</td><td>GroupB</td></tr><tr><th>5</th><td>15</td><td>0.166789</td><td>10.127</td><td>11</td><td>GroupB</td></tr><tr><th>6</th><td>16</td><td>-0.608117</td><td>8.84621</td><td>9</td><td>GroupB</td></tr><tr><th>7</th><td>17</td><td>-1.57543</td><td>9.73089</td><td>7</td><td>GroupB</td></tr><tr><th>8</th><td>18</td><td>-1.31724</td><td>9.97798</td><td>12</td><td>GroupB</td></tr><tr><th>9</th><td>19</td><td>-1.0044</td><td>11.8124</td><td>6</td><td>GroupB</td></tr><tr><th>10</th><td>20</td><td>-0.119859</td><td>7.44903</td><td>9</td><td>GroupB</td></tr><tr><th>11</th><td>21</td><td>0.250064</td><td>10.5556</td><td>11</td><td>GroupA</td></tr><tr><th>12</th><td>22</td><td>0.860593</td><td>5.16572</td><td>11</td><td>GroupA</td></tr><tr><th>13</th><td>23</td><td>-0.714061</td><td>9.73093</td><td>13</td><td>GroupA</td></tr><tr><th>14</th><td>24</td><td>0.360856</td><td>10.1584</td><td>14</td><td>GroupA</td></tr><tr><th>15</th><td>25</td><td>-1.1243</td><td>10.2683</td><td>12</td><td>GroupA</td></tr><tr><th>16</th><td>26</td><td>0.0415299</td><td>8.59164</td><td>13</td><td>GroupA</td></tr><tr><th>17</th><td>27</td><td>-0.496601</td><td>9.40441</td><td>9</td><td>GroupA</td></tr><tr><th>18</th><td>28</td><td>1.54361</td><td>7.1512</td><td>7</td><td>GroupB</td></tr><tr><th>19</th><td>29</td><td>0.653686</td><td>8.15625</td><td>11</td><td>GroupB</td></tr><tr><th>20</th><td>30</td><td>-0.416119</td><td>10.9082</td><td>10</td><td>GroupB</td></tr></tbody></table>"
      ],
      "text/latex": [
       "\\begin{tabular}{r|ccccc}\n",
       "\t& id & var1 & var2 & var3 & cat1\\\\\n",
       "\t\\hline\n",
       "\t& Int64 & Float64 & Float64 & Int64 & String\\\\\n",
       "\t\\hline\n",
       "\t1 & 11 & -1.17801 & 8.96203 & 8 & GroupA \\\\\n",
       "\t2 & 12 & 0.377104 & 8.5063 & 14 & GroupA \\\\\n",
       "\t3 & 13 & 0.28965 & 13.3826 & 5 & GroupB \\\\\n",
       "\t4 & 14 & 0.439391 & 10.742 & 10 & GroupB \\\\\n",
       "\t5 & 15 & 0.166789 & 10.127 & 11 & GroupB \\\\\n",
       "\t6 & 16 & -0.608117 & 8.84621 & 9 & GroupB \\\\\n",
       "\t7 & 17 & -1.57543 & 9.73089 & 7 & GroupB \\\\\n",
       "\t8 & 18 & -1.31724 & 9.97798 & 12 & GroupB \\\\\n",
       "\t9 & 19 & -1.0044 & 11.8124 & 6 & GroupB \\\\\n",
       "\t10 & 20 & -0.119859 & 7.44903 & 9 & GroupB \\\\\n",
       "\t11 & 21 & 0.250064 & 10.5556 & 11 & GroupA \\\\\n",
       "\t12 & 22 & 0.860593 & 5.16572 & 11 & GroupA \\\\\n",
       "\t13 & 23 & -0.714061 & 9.73093 & 13 & GroupA \\\\\n",
       "\t14 & 24 & 0.360856 & 10.1584 & 14 & GroupA \\\\\n",
       "\t15 & 25 & -1.1243 & 10.2683 & 12 & GroupA \\\\\n",
       "\t16 & 26 & 0.0415299 & 8.59164 & 13 & GroupA \\\\\n",
       "\t17 & 27 & -0.496601 & 9.40441 & 9 & GroupA \\\\\n",
       "\t18 & 28 & 1.54361 & 7.1512 & 7 & GroupB \\\\\n",
       "\t19 & 29 & 0.653686 & 8.15625 & 11 & GroupB \\\\\n",
       "\t20 & 30 & -0.416119 & 10.9082 & 10 & GroupB \\\\\n",
       "\\end{tabular}\n"
      ],
      "text/plain": [
       "20×5 DataFrame\n",
       "│ Row │ id    │ var1      │ var2    │ var3  │ cat1   │\n",
       "│     │ \u001b[90mInt64\u001b[39m │ \u001b[90mFloat64\u001b[39m   │ \u001b[90mFloat64\u001b[39m │ \u001b[90mInt64\u001b[39m │ \u001b[90mString\u001b[39m │\n",
       "├─────┼───────┼───────────┼─────────┼───────┼────────┤\n",
       "│ 1   │ 11    │ -1.17801  │ 8.96203 │ 8     │ GroupA │\n",
       "│ 2   │ 12    │ 0.377104  │ 8.5063  │ 14    │ GroupA │\n",
       "│ 3   │ 13    │ 0.28965   │ 13.3826 │ 5     │ GroupB │\n",
       "│ 4   │ 14    │ 0.439391  │ 10.742  │ 10    │ GroupB │\n",
       "│ 5   │ 15    │ 0.166789  │ 10.127  │ 11    │ GroupB │\n",
       "│ 6   │ 16    │ -0.608117 │ 8.84621 │ 9     │ GroupB │\n",
       "│ 7   │ 17    │ -1.57543  │ 9.73089 │ 7     │ GroupB │\n",
       "│ 8   │ 18    │ -1.31724  │ 9.97798 │ 12    │ GroupB │\n",
       "│ 9   │ 19    │ -1.0044   │ 11.8124 │ 6     │ GroupB │\n",
       "│ 10  │ 20    │ -0.119859 │ 7.44903 │ 9     │ GroupB │\n",
       "│ 11  │ 21    │ 0.250064  │ 10.5556 │ 11    │ GroupA │\n",
       "│ 12  │ 22    │ 0.860593  │ 5.16572 │ 11    │ GroupA │\n",
       "│ 13  │ 23    │ -0.714061 │ 9.73093 │ 13    │ GroupA │\n",
       "│ 14  │ 24    │ 0.360856  │ 10.1584 │ 14    │ GroupA │\n",
       "│ 15  │ 25    │ -1.1243   │ 10.2683 │ 12    │ GroupA │\n",
       "│ 16  │ 26    │ 0.0415299 │ 8.59164 │ 13    │ GroupA │\n",
       "│ 17  │ 27    │ -0.496601 │ 9.40441 │ 9     │ GroupA │\n",
       "│ 18  │ 28    │ 1.54361   │ 7.1512  │ 7     │ GroupB │\n",
       "│ 19  │ 29    │ 0.653686  │ 8.15625 │ 11    │ GroupB │\n",
       "│ 20  │ 30    │ -0.416119 │ 10.9082 │ 10    │ GroupB │"
      ]
     },
     "execution_count": 28,
     "metadata": {},
     "output_type": "execute_result"
    }
   ],
   "source": [
    "#In a code cells below, add a column named cat1 to the df2 DataFrame consisting of a random selection of 20 values from the sample space GroupA and GroupB.\n",
    "df2[:cat1] = rand([\"GroupA\", \"GroupB\"], 20)\n",
    "df2"
   ]
  },
  {
   "cell_type": "code",
   "execution_count": 29,
   "metadata": {},
   "outputs": [
    {
     "data": {
      "text/html": [
       "<table class=\"data-frame\"><thead><tr><th></th><th>id</th><th>var4</th><th>var5</th></tr><tr><th></th><th>Int64</th><th>Int64</th><th>Int64</th></tr></thead><tbody><p>20 rows × 3 columns</p><tr><th>1</th><td>11</td><td>21</td><td>41</td></tr><tr><th>2</th><td>12</td><td>22</td><td>42</td></tr><tr><th>3</th><td>13</td><td>23</td><td>43</td></tr><tr><th>4</th><td>14</td><td>24</td><td>44</td></tr><tr><th>5</th><td>15</td><td>25</td><td>45</td></tr><tr><th>6</th><td>16</td><td>26</td><td>46</td></tr><tr><th>7</th><td>17</td><td>27</td><td>47</td></tr><tr><th>8</th><td>18</td><td>28</td><td>48</td></tr><tr><th>9</th><td>19</td><td>29</td><td>49</td></tr><tr><th>10</th><td>20</td><td>30</td><td>50</td></tr><tr><th>11</th><td>21</td><td>31</td><td>51</td></tr><tr><th>12</th><td>22</td><td>32</td><td>52</td></tr><tr><th>13</th><td>23</td><td>33</td><td>53</td></tr><tr><th>14</th><td>24</td><td>34</td><td>54</td></tr><tr><th>15</th><td>25</td><td>35</td><td>55</td></tr><tr><th>16</th><td>26</td><td>36</td><td>56</td></tr><tr><th>17</th><td>27</td><td>37</td><td>57</td></tr><tr><th>18</th><td>28</td><td>38</td><td>58</td></tr><tr><th>19</th><td>29</td><td>39</td><td>59</td></tr><tr><th>20</th><td>30</td><td>40</td><td>60</td></tr></tbody></table>"
      ],
      "text/latex": [
       "\\begin{tabular}{r|ccc}\n",
       "\t& id & var4 & var5\\\\\n",
       "\t\\hline\n",
       "\t& Int64 & Int64 & Int64\\\\\n",
       "\t\\hline\n",
       "\t1 & 11 & 21 & 41 \\\\\n",
       "\t2 & 12 & 22 & 42 \\\\\n",
       "\t3 & 13 & 23 & 43 \\\\\n",
       "\t4 & 14 & 24 & 44 \\\\\n",
       "\t5 & 15 & 25 & 45 \\\\\n",
       "\t6 & 16 & 26 & 46 \\\\\n",
       "\t7 & 17 & 27 & 47 \\\\\n",
       "\t8 & 18 & 28 & 48 \\\\\n",
       "\t9 & 19 & 29 & 49 \\\\\n",
       "\t10 & 20 & 30 & 50 \\\\\n",
       "\t11 & 21 & 31 & 51 \\\\\n",
       "\t12 & 22 & 32 & 52 \\\\\n",
       "\t13 & 23 & 33 & 53 \\\\\n",
       "\t14 & 24 & 34 & 54 \\\\\n",
       "\t15 & 25 & 35 & 55 \\\\\n",
       "\t16 & 26 & 36 & 56 \\\\\n",
       "\t17 & 27 & 37 & 57 \\\\\n",
       "\t18 & 28 & 38 & 58 \\\\\n",
       "\t19 & 29 & 39 & 59 \\\\\n",
       "\t20 & 30 & 40 & 60 \\\\\n",
       "\\end{tabular}\n"
      ],
      "text/plain": [
       "20×3 DataFrame\n",
       "│ Row │ id    │ var4  │ var5  │\n",
       "│     │ \u001b[90mInt64\u001b[39m │ \u001b[90mInt64\u001b[39m │ \u001b[90mInt64\u001b[39m │\n",
       "├─────┼───────┼───────┼───────┤\n",
       "│ 1   │ 11    │ 21    │ 41    │\n",
       "│ 2   │ 12    │ 22    │ 42    │\n",
       "│ 3   │ 13    │ 23    │ 43    │\n",
       "│ 4   │ 14    │ 24    │ 44    │\n",
       "│ 5   │ 15    │ 25    │ 45    │\n",
       "│ 6   │ 16    │ 26    │ 46    │\n",
       "│ 7   │ 17    │ 27    │ 47    │\n",
       "│ 8   │ 18    │ 28    │ 48    │\n",
       "│ 9   │ 19    │ 29    │ 49    │\n",
       "│ 10  │ 20    │ 30    │ 50    │\n",
       "│ 11  │ 21    │ 31    │ 51    │\n",
       "│ 12  │ 22    │ 32    │ 52    │\n",
       "│ 13  │ 23    │ 33    │ 53    │\n",
       "│ 14  │ 24    │ 34    │ 54    │\n",
       "│ 15  │ 25    │ 35    │ 55    │\n",
       "│ 16  │ 26    │ 36    │ 56    │\n",
       "│ 17  │ 27    │ 37    │ 57    │\n",
       "│ 18  │ 28    │ 38    │ 58    │\n",
       "│ 19  │ 29    │ 39    │ 59    │\n",
       "│ 20  │ 30    │ 40    │ 60    │"
      ]
     },
     "execution_count": 29,
     "metadata": {},
     "output_type": "execute_result"
    }
   ],
   "source": [
    "#In a code cells below, create a DataFrame named df3 with columns named id, var4 and var5\n",
    "#such that id contains the values 11 through 30, var4 contains the values 21 through 40 \n",
    "#and var5 contains the values 41 through 60.\n",
    "df3 = DataFrame(id = collect(11:30), var4 = collect(21:40), var5 = collect(41:60))"
   ]
  },
  {
   "cell_type": "code",
   "execution_count": 30,
   "metadata": {},
   "outputs": [
    {
     "data": {
      "text/html": [
       "<table class=\"data-frame\"><thead><tr><th></th><th>id</th><th>var1</th><th>var2</th><th>var3</th><th>cat1</th><th>var4</th><th>var5</th></tr><tr><th></th><th>Int64</th><th>Float64</th><th>Float64</th><th>Int64</th><th>String</th><th>Int64</th><th>Int64</th></tr></thead><tbody><p>20 rows × 7 columns</p><tr><th>1</th><td>11</td><td>-1.17801</td><td>8.96203</td><td>8</td><td>GroupA</td><td>21</td><td>41</td></tr><tr><th>2</th><td>12</td><td>0.377104</td><td>8.5063</td><td>14</td><td>GroupA</td><td>22</td><td>42</td></tr><tr><th>3</th><td>13</td><td>0.28965</td><td>13.3826</td><td>5</td><td>GroupB</td><td>23</td><td>43</td></tr><tr><th>4</th><td>14</td><td>0.439391</td><td>10.742</td><td>10</td><td>GroupB</td><td>24</td><td>44</td></tr><tr><th>5</th><td>15</td><td>0.166789</td><td>10.127</td><td>11</td><td>GroupB</td><td>25</td><td>45</td></tr><tr><th>6</th><td>16</td><td>-0.608117</td><td>8.84621</td><td>9</td><td>GroupB</td><td>26</td><td>46</td></tr><tr><th>7</th><td>17</td><td>-1.57543</td><td>9.73089</td><td>7</td><td>GroupB</td><td>27</td><td>47</td></tr><tr><th>8</th><td>18</td><td>-1.31724</td><td>9.97798</td><td>12</td><td>GroupB</td><td>28</td><td>48</td></tr><tr><th>9</th><td>19</td><td>-1.0044</td><td>11.8124</td><td>6</td><td>GroupB</td><td>29</td><td>49</td></tr><tr><th>10</th><td>20</td><td>-0.119859</td><td>7.44903</td><td>9</td><td>GroupB</td><td>30</td><td>50</td></tr><tr><th>11</th><td>21</td><td>0.250064</td><td>10.5556</td><td>11</td><td>GroupA</td><td>31</td><td>51</td></tr><tr><th>12</th><td>22</td><td>0.860593</td><td>5.16572</td><td>11</td><td>GroupA</td><td>32</td><td>52</td></tr><tr><th>13</th><td>23</td><td>-0.714061</td><td>9.73093</td><td>13</td><td>GroupA</td><td>33</td><td>53</td></tr><tr><th>14</th><td>24</td><td>0.360856</td><td>10.1584</td><td>14</td><td>GroupA</td><td>34</td><td>54</td></tr><tr><th>15</th><td>25</td><td>-1.1243</td><td>10.2683</td><td>12</td><td>GroupA</td><td>35</td><td>55</td></tr><tr><th>16</th><td>26</td><td>0.0415299</td><td>8.59164</td><td>13</td><td>GroupA</td><td>36</td><td>56</td></tr><tr><th>17</th><td>27</td><td>-0.496601</td><td>9.40441</td><td>9</td><td>GroupA</td><td>37</td><td>57</td></tr><tr><th>18</th><td>28</td><td>1.54361</td><td>7.1512</td><td>7</td><td>GroupB</td><td>38</td><td>58</td></tr><tr><th>19</th><td>29</td><td>0.653686</td><td>8.15625</td><td>11</td><td>GroupB</td><td>39</td><td>59</td></tr><tr><th>20</th><td>30</td><td>-0.416119</td><td>10.9082</td><td>10</td><td>GroupB</td><td>40</td><td>60</td></tr></tbody></table>"
      ],
      "text/latex": [
       "\\begin{tabular}{r|ccccccc}\n",
       "\t& id & var1 & var2 & var3 & cat1 & var4 & var5\\\\\n",
       "\t\\hline\n",
       "\t& Int64 & Float64 & Float64 & Int64 & String & Int64 & Int64\\\\\n",
       "\t\\hline\n",
       "\t1 & 11 & -1.17801 & 8.96203 & 8 & GroupA & 21 & 41 \\\\\n",
       "\t2 & 12 & 0.377104 & 8.5063 & 14 & GroupA & 22 & 42 \\\\\n",
       "\t3 & 13 & 0.28965 & 13.3826 & 5 & GroupB & 23 & 43 \\\\\n",
       "\t4 & 14 & 0.439391 & 10.742 & 10 & GroupB & 24 & 44 \\\\\n",
       "\t5 & 15 & 0.166789 & 10.127 & 11 & GroupB & 25 & 45 \\\\\n",
       "\t6 & 16 & -0.608117 & 8.84621 & 9 & GroupB & 26 & 46 \\\\\n",
       "\t7 & 17 & -1.57543 & 9.73089 & 7 & GroupB & 27 & 47 \\\\\n",
       "\t8 & 18 & -1.31724 & 9.97798 & 12 & GroupB & 28 & 48 \\\\\n",
       "\t9 & 19 & -1.0044 & 11.8124 & 6 & GroupB & 29 & 49 \\\\\n",
       "\t10 & 20 & -0.119859 & 7.44903 & 9 & GroupB & 30 & 50 \\\\\n",
       "\t11 & 21 & 0.250064 & 10.5556 & 11 & GroupA & 31 & 51 \\\\\n",
       "\t12 & 22 & 0.860593 & 5.16572 & 11 & GroupA & 32 & 52 \\\\\n",
       "\t13 & 23 & -0.714061 & 9.73093 & 13 & GroupA & 33 & 53 \\\\\n",
       "\t14 & 24 & 0.360856 & 10.1584 & 14 & GroupA & 34 & 54 \\\\\n",
       "\t15 & 25 & -1.1243 & 10.2683 & 12 & GroupA & 35 & 55 \\\\\n",
       "\t16 & 26 & 0.0415299 & 8.59164 & 13 & GroupA & 36 & 56 \\\\\n",
       "\t17 & 27 & -0.496601 & 9.40441 & 9 & GroupA & 37 & 57 \\\\\n",
       "\t18 & 28 & 1.54361 & 7.1512 & 7 & GroupB & 38 & 58 \\\\\n",
       "\t19 & 29 & 0.653686 & 8.15625 & 11 & GroupB & 39 & 59 \\\\\n",
       "\t20 & 30 & -0.416119 & 10.9082 & 10 & GroupB & 40 & 60 \\\\\n",
       "\\end{tabular}\n"
      ],
      "text/plain": [
       "20×7 DataFrame\n",
       "│ Row │ id    │ var1      │ var2    │ var3  │ cat1   │ var4  │ var5  │\n",
       "│     │ \u001b[90mInt64\u001b[39m │ \u001b[90mFloat64\u001b[39m   │ \u001b[90mFloat64\u001b[39m │ \u001b[90mInt64\u001b[39m │ \u001b[90mString\u001b[39m │ \u001b[90mInt64\u001b[39m │ \u001b[90mInt64\u001b[39m │\n",
       "├─────┼───────┼───────────┼─────────┼───────┼────────┼───────┼───────┤\n",
       "│ 1   │ 11    │ -1.17801  │ 8.96203 │ 8     │ GroupA │ 21    │ 41    │\n",
       "│ 2   │ 12    │ 0.377104  │ 8.5063  │ 14    │ GroupA │ 22    │ 42    │\n",
       "│ 3   │ 13    │ 0.28965   │ 13.3826 │ 5     │ GroupB │ 23    │ 43    │\n",
       "│ 4   │ 14    │ 0.439391  │ 10.742  │ 10    │ GroupB │ 24    │ 44    │\n",
       "│ 5   │ 15    │ 0.166789  │ 10.127  │ 11    │ GroupB │ 25    │ 45    │\n",
       "│ 6   │ 16    │ -0.608117 │ 8.84621 │ 9     │ GroupB │ 26    │ 46    │\n",
       "│ 7   │ 17    │ -1.57543  │ 9.73089 │ 7     │ GroupB │ 27    │ 47    │\n",
       "│ 8   │ 18    │ -1.31724  │ 9.97798 │ 12    │ GroupB │ 28    │ 48    │\n",
       "│ 9   │ 19    │ -1.0044   │ 11.8124 │ 6     │ GroupB │ 29    │ 49    │\n",
       "│ 10  │ 20    │ -0.119859 │ 7.44903 │ 9     │ GroupB │ 30    │ 50    │\n",
       "│ 11  │ 21    │ 0.250064  │ 10.5556 │ 11    │ GroupA │ 31    │ 51    │\n",
       "│ 12  │ 22    │ 0.860593  │ 5.16572 │ 11    │ GroupA │ 32    │ 52    │\n",
       "│ 13  │ 23    │ -0.714061 │ 9.73093 │ 13    │ GroupA │ 33    │ 53    │\n",
       "│ 14  │ 24    │ 0.360856  │ 10.1584 │ 14    │ GroupA │ 34    │ 54    │\n",
       "│ 15  │ 25    │ -1.1243   │ 10.2683 │ 12    │ GroupA │ 35    │ 55    │\n",
       "│ 16  │ 26    │ 0.0415299 │ 8.59164 │ 13    │ GroupA │ 36    │ 56    │\n",
       "│ 17  │ 27    │ -0.496601 │ 9.40441 │ 9     │ GroupA │ 37    │ 57    │\n",
       "│ 18  │ 28    │ 1.54361   │ 7.1512  │ 7     │ GroupB │ 38    │ 58    │\n",
       "│ 19  │ 29    │ 0.653686  │ 8.15625 │ 11    │ GroupB │ 39    │ 59    │\n",
       "│ 20  │ 30    │ -0.416119 │ 10.9082 │ 10    │ GroupB │ 40    │ 60    │"
      ]
     },
     "execution_count": 30,
     "metadata": {},
     "output_type": "execute_result"
    }
   ],
   "source": [
    "#In a code cells below, do a join of DataFrames df2 and df3 on the id column and save the result as a new dataframe called df4.\n",
    "df4 = join(df2, df3, on = :id)"
   ]
  },
  {
   "cell_type": "markdown",
   "metadata": {},
   "source": [
    "## note to the reviwer:\n",
    "in df1; I used the name (id) instead of (ID) in order to match the column names with df3 at the join step. I know I could have used <br>\n",
    "__join(df2, df3, on = :ID => :id, kind = :inner)__  <br>\n",
    "but this seemed more elegant. "
   ]
  },
  {
   "cell_type": "code",
   "execution_count": null,
   "metadata": {},
   "outputs": [],
   "source": []
  }
 ],
 "metadata": {
  "kernelspec": {
   "display_name": "Julia 1.3.1",
   "language": "julia",
   "name": "julia-1.3"
  },
  "language_info": {
   "file_extension": ".jl",
   "mimetype": "application/julia",
   "name": "julia",
   "version": "1.3.1"
  }
 },
 "nbformat": 4,
 "nbformat_minor": 1
}
