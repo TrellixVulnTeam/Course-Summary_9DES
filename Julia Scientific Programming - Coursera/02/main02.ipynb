{
 "cells": [
  {
   "cell_type": "code",
   "execution_count": 1,
   "metadata": {},
   "outputs": [],
   "source": [
    "using DelimitedFiles"
   ]
  },
  {
   "cell_type": "code",
   "execution_count": 2,
   "metadata": {},
   "outputs": [
    {
     "data": {
      "text/plain": [
       "54×9 Array{Any,2}:\n",
       " \"25 Nov 2015\"  28637  11314  3804  2536  …  4808     14122     3955   \n",
       " \"18 Nov 2015\"  28634  11314  3804  2536     4808     14122     3955   \n",
       " \"11 Nov 2015\"  28635  11314  3805  2536     4808     14122     3955   \n",
       " \"4 Nov 2015\"   28607  11314  3810  2536     4808     14089     3955   \n",
       " \"25 Oct 2015\"  28539  11298  3806  2535     4808     14061     3955   \n",
       " \"18 Oct 2015\"  28476  11298  3803  2535  …  4808     14001     3955   \n",
       " \"11 Oct 2015\"  28454  11297  3800  2534     4808     13982     3955   \n",
       " \"27 Sep 2015\"  28388  11296  3805  2533     4808     13911     3955   \n",
       " \"20 Sep 2015\"  28295  11295  3800  2532     4808     13823     3955   \n",
       " \"13 Sep 2015\"  28220  11291  3792  2530     4808     13756     3953   \n",
       " \"6 Sep 2015\"   28147  11291  3792  2530  …  4808     13683     3953   \n",
       " \"30 Aug 2015\"  28073  11290  3792  2529     4808     13609     3953   \n",
       " \"16 Aug 2015\"  27952  11284  3786  2524     4808     13494     3952   \n",
       " ⋮                                        ⋱                            \n",
       " \"9 Aug 2014\"    1835   1011   506   373      323       730      315   \n",
       " \"30 Jul 2014\"   1437    825   472   346      227       574      252   \n",
       " \"23 Jul 2014\"   1201    672   427   319      129       525      224   \n",
       " \"14 Jul 2014\"    982    613   411   310  …   106       397      197   \n",
       " \"2 Jul 2014\"     779    481   412   305       75       252      101   \n",
       " \"17 Jun 2014\"    528    337   398   264       24        97       49   \n",
       " \"27 May 2014\"    309    202   281   186       11        16        5   \n",
       " \"12 May 2014\"    260    182   248   171       11          \"–\"      \"–\"\n",
       " \"1 May 2014\"     239    160   226   149  …    11          \"-\"      \"-\"\n",
       " \"14 Apr 2014\"    176    110   168   108        2          \"–\"      \"–\"\n",
       " \"31 Mar 2014\"    130     82   122    80        2          \"–\"      \"–\"\n",
       " \"22 Mar 2014\"     49     29    49    29         \"–\"       \"–\"      \"–\""
      ]
     },
     "execution_count": 2,
     "metadata": {},
     "output_type": "execute_result"
    }
   ],
   "source": [
    "wikiEVDraw = DelimitedFiles.readdlm(\"wikipediaEVDraw.csv\", ',')"
   ]
  },
  {
   "cell_type": "code",
   "execution_count": 3,
   "metadata": {},
   "outputs": [],
   "source": [
    "using Dates"
   ]
  },
  {
   "cell_type": "code",
   "execution_count": 4,
   "metadata": {},
   "outputs": [
    {
     "data": {
      "text/plain": [
       "2015-11-25T00:00:00"
      ]
     },
     "execution_count": 4,
     "metadata": {},
     "output_type": "execute_result"
    }
   ],
   "source": [
    "Dates.DateTime(wikiEVDraw[1,1], \"d u y\")"
   ]
  },
  {
   "cell_type": "code",
   "execution_count": 6,
   "metadata": {},
   "outputs": [
    {
     "data": {
      "text/plain": [
       "54-element Array{Any,1}:\n",
       " \"25 Nov 2015\"\n",
       " \"18 Nov 2015\"\n",
       " \"11 Nov 2015\"\n",
       " \"4 Nov 2015\" \n",
       " \"25 Oct 2015\"\n",
       " \"18 Oct 2015\"\n",
       " \"11 Oct 2015\"\n",
       " \"27 Sep 2015\"\n",
       " \"20 Sep 2015\"\n",
       " \"13 Sep 2015\"\n",
       " \"6 Sep 2015\" \n",
       " \"30 Aug 2015\"\n",
       " \"16 Aug 2015\"\n",
       " ⋮            \n",
       " \"9 Aug 2014\" \n",
       " \"30 Jul 2014\"\n",
       " \"23 Jul 2014\"\n",
       " \"14 Jul 2014\"\n",
       " \"2 Jul 2014\" \n",
       " \"17 Jun 2014\"\n",
       " \"27 May 2014\"\n",
       " \"12 May 2014\"\n",
       " \"1 May 2014\" \n",
       " \"14 Apr 2014\"\n",
       " \"31 Mar 2014\"\n",
       " \"22 Mar 2014\""
      ]
     },
     "execution_count": 6,
     "metadata": {},
     "output_type": "execute_result"
    }
   ],
   "source": [
    "col1 = wikiEVDraw[:,1]"
   ]
  },
  {
   "cell_type": "code",
   "execution_count": 7,
   "metadata": {},
   "outputs": [],
   "source": [
    "for i = 1:length(col1)\n",
    "    col1[i] = Dates.DateTime(col1[i], \"d u y\")\n",
    "end"
   ]
  },
  {
   "cell_type": "code",
   "execution_count": 8,
   "metadata": {},
   "outputs": [
    {
     "data": {
      "text/plain": [
       "54-element Array{Any,1}:\n",
       " 2015-11-25T00:00:00\n",
       " 2015-11-18T00:00:00\n",
       " 2015-11-11T00:00:00\n",
       " 2015-11-04T00:00:00\n",
       " 2015-10-25T00:00:00\n",
       " 2015-10-18T00:00:00\n",
       " 2015-10-11T00:00:00\n",
       " 2015-09-27T00:00:00\n",
       " 2015-09-20T00:00:00\n",
       " 2015-09-13T00:00:00\n",
       " 2015-09-06T00:00:00\n",
       " 2015-08-30T00:00:00\n",
       " 2015-08-16T00:00:00\n",
       " ⋮                  \n",
       " 2014-08-09T00:00:00\n",
       " 2014-07-30T00:00:00\n",
       " 2014-07-23T00:00:00\n",
       " 2014-07-14T00:00:00\n",
       " 2014-07-02T00:00:00\n",
       " 2014-06-17T00:00:00\n",
       " 2014-05-27T00:00:00\n",
       " 2014-05-12T00:00:00\n",
       " 2014-05-01T00:00:00\n",
       " 2014-04-14T00:00:00\n",
       " 2014-03-31T00:00:00\n",
       " 2014-03-22T00:00:00"
      ]
     },
     "execution_count": 8,
     "metadata": {},
     "output_type": "execute_result"
    }
   ],
   "source": [
    "col1"
   ]
  },
  {
   "cell_type": "code",
   "execution_count": 9,
   "metadata": {},
   "outputs": [
    {
     "data": {
      "text/plain": [
       "735927"
      ]
     },
     "execution_count": 9,
     "metadata": {},
     "output_type": "execute_result"
    }
   ],
   "source": [
    "Dates.datetime2rata(col1[1])"
   ]
  },
  {
   "cell_type": "code",
   "execution_count": 11,
   "metadata": {},
   "outputs": [
    {
     "data": {
      "text/plain": [
       "dayssincemar22 (generic function with 1 method)"
      ]
     },
     "execution_count": 11,
     "metadata": {},
     "output_type": "execute_result"
    }
   ],
   "source": [
    "dayssincemar22(x) = Dates.datetime2rata(x) - Dates.datetime2rata(col1[54])"
   ]
  },
  {
   "cell_type": "code",
   "execution_count": 13,
   "metadata": {},
   "outputs": [
    {
     "data": {
      "text/plain": [
       "54-element Array{Int64,1}:\n",
       " 324783408\n",
       " 324783552\n",
       " 324783600\n",
       " 324783840\n",
       " 324783984\n",
       " 324784032\n",
       " 324784080\n",
       " 324784128\n",
       " 324784176\n",
       " 324784224\n",
       " 324784272\n",
       " 324784416\n",
       " 324784464\n",
       "         ⋮\n",
       " 324786672\n",
       " 324786720\n",
       " 324786768\n",
       " 324786816\n",
       " 324786864\n",
       " 324786912\n",
       " 324786960\n",
       " 324787008\n",
       " 324787056\n",
       " 324787104\n",
       " 324787152\n",
       " 324787200"
      ]
     },
     "execution_count": 13,
     "metadata": {},
     "output_type": "execute_result"
    }
   ],
   "source": [
    "epidays = Array{Int64}(undef, 54)"
   ]
  },
  {
   "cell_type": "code",
   "execution_count": 14,
   "metadata": {},
   "outputs": [],
   "source": [
    "for i = 1:54\n",
    "    epidays[i] = dayssincemar22(col1[i])\n",
    "end\n"
   ]
  },
  {
   "cell_type": "code",
   "execution_count": 15,
   "metadata": {},
   "outputs": [
    {
     "data": {
      "text/plain": [
       "54-element Array{Int64,1}:\n",
       " 613\n",
       " 606\n",
       " 599\n",
       " 592\n",
       " 582\n",
       " 575\n",
       " 568\n",
       " 554\n",
       " 547\n",
       " 540\n",
       " 533\n",
       " 526\n",
       " 512\n",
       "   ⋮\n",
       " 140\n",
       " 130\n",
       " 123\n",
       " 114\n",
       " 102\n",
       "  87\n",
       "  66\n",
       "  51\n",
       "  40\n",
       "  23\n",
       "   9\n",
       "   0"
      ]
     },
     "execution_count": 15,
     "metadata": {},
     "output_type": "execute_result"
    }
   ],
   "source": [
    "epidays"
   ]
  },
  {
   "cell_type": "code",
   "execution_count": 16,
   "metadata": {},
   "outputs": [
    {
     "data": {
      "text/plain": [
       "54-element Array{Int64,1}:\n",
       " 613\n",
       " 606\n",
       " 599\n",
       " 592\n",
       " 582\n",
       " 575\n",
       " 568\n",
       " 554\n",
       " 547\n",
       " 540\n",
       " 533\n",
       " 526\n",
       " 512\n",
       "   ⋮\n",
       " 140\n",
       " 130\n",
       " 123\n",
       " 114\n",
       " 102\n",
       "  87\n",
       "  66\n",
       "  51\n",
       "  40\n",
       "  23\n",
       "   9\n",
       "   0"
      ]
     },
     "execution_count": 16,
     "metadata": {},
     "output_type": "execute_result"
    }
   ],
   "source": [
    "wikiEVDraw[:,1] = epidays"
   ]
  },
  {
   "cell_type": "code",
   "execution_count": 17,
   "metadata": {},
   "outputs": [
    {
     "data": {
      "text/plain": [
       "54×9 Array{Any,2}:\n",
       " 613  28637  11314  3804  2536  10675     4808     14122     3955   \n",
       " 606  28634  11314  3804  2536  10672     4808     14122     3955   \n",
       " 599  28635  11314  3805  2536  10672     4808     14122     3955   \n",
       " 592  28607  11314  3810  2536  10672     4808     14089     3955   \n",
       " 582  28539  11298  3806  2535  10672     4808     14061     3955   \n",
       " 575  28476  11298  3803  2535  10672     4808     14001     3955   \n",
       " 568  28454  11297  3800  2534  10672     4808     13982     3955   \n",
       " 554  28388  11296  3805  2533  10672     4808     13911     3955   \n",
       " 547  28295  11295  3800  2532  10672     4808     13823     3955   \n",
       " 540  28220  11291  3792  2530  10672     4808     13756     3953   \n",
       " 533  28147  11291  3792  2530  10672     4808     13683     3953   \n",
       " 526  28073  11290  3792  2529  10672     4808     13609     3953   \n",
       " 512  27952  11284  3786  2524  10672     4808     13494     3952   \n",
       "   ⋮                                ⋮                               \n",
       " 140   1835   1011   506   373    599      323       730      315   \n",
       " 130   1437    825   472   346    391      227       574      252   \n",
       " 123   1201    672   427   319    249      129       525      224   \n",
       " 114    982    613   411   310    174      106       397      197   \n",
       " 102    779    481   412   305    115       75       252      101   \n",
       "  87    528    337   398   264     33       24        97       49   \n",
       "  66    309    202   281   186     12       11        16        5   \n",
       "  51    260    182   248   171     12       11          \"–\"      \"–\"\n",
       "  40    239    160   226   149     13       11          \"-\"      \"-\"\n",
       "  23    176    110   168   108      8        2          \"–\"      \"–\"\n",
       "   9    130     82   122    80      8        2          \"–\"      \"–\"\n",
       "   0     49     29    49    29       \"–\"      \"–\"       \"–\"      \"–\""
      ]
     },
     "execution_count": 17,
     "metadata": {},
     "output_type": "execute_result"
    }
   ],
   "source": [
    "wikiEVDraw"
   ]
  },
  {
   "cell_type": "code",
   "execution_count": 18,
   "metadata": {},
   "outputs": [],
   "source": [
    "DelimitedFiles.writedlm(\"wikipediaEVDdatesconverted.csv\", wikiEVDraw, ',')"
   ]
  },
  {
   "cell_type": "code",
   "execution_count": 23,
   "metadata": {},
   "outputs": [
    {
     "name": "stdout",
     "output_type": "stream",
     "text": [
      "12\n",
      "23\n",
      "34\n"
     ]
    }
   ],
   "source": [
    "mylist = [3, 2, 1]\n",
    "count=1\n",
    "for i in mylist\n",
    "  mylist[i]=count\n",
    "  count=count+1\n",
    "  println(mylist[i], count)\n",
    "end"
   ]
  },
  {
   "cell_type": "code",
   "execution_count": 24,
   "metadata": {},
   "outputs": [],
   "source": [
    "count=0\n",
    "for i=1:3\n",
    "  for j=1:3\n",
    "    count=count+1\n",
    "  end\n",
    "end"
   ]
  },
  {
   "cell_type": "code",
   "execution_count": 25,
   "metadata": {},
   "outputs": [
    {
     "data": {
      "text/plain": [
       "9"
      ]
     },
     "execution_count": 25,
     "metadata": {},
     "output_type": "execute_result"
    }
   ],
   "source": [
    "count"
   ]
  },
  {
   "cell_type": "code",
   "execution_count": 28,
   "metadata": {},
   "outputs": [
    {
     "name": "stdout",
     "output_type": "stream",
     "text": [
      "1\n",
      "3\n",
      "5\n"
     ]
    },
    {
     "data": {
      "text/plain": [
       "12"
      ]
     },
     "execution_count": 28,
     "metadata": {},
     "output_type": "execute_result"
    }
   ],
   "source": [
    "summedvals = 3\n",
    "for k = 1:2:5  \n",
    "  summedvals = summedvals + k\n",
    "  println(k)\n",
    "end\n",
    "summedvals"
   ]
  },
  {
   "cell_type": "code",
   "execution_count": 30,
   "metadata": {},
   "outputs": [
    {
     "name": "stdout",
     "output_type": "stream",
     "text": [
      "\u001b[32m\u001b[1m  Updating\u001b[22m\u001b[39m registry at `C:\\Users\\razek\\.julia\\registries\\General`\n",
      "\u001b[32m\u001b[1m  Updating\u001b[22m\u001b[39m git-repo `https://github.com/JuliaRegistries/General.git`\n",
      "\u001b[2K\u001b[36m\u001b[1mFetching:\u001b[22m\u001b[39m [========================================>]  100.0 %.0 %9 %2.2 %6.1 %                                  ]  13.9 % [=======>                                 ]  16.1 %]  16.8 %>                                ]  18.1 % [=========>                               ]  20.4 %8 %6 % [===========>                             ]  26.0 %2 % %=============>                           ]  31.2 %32.6 %>                         ]  35.1 %>                         ]  37.4 % [================>                        ]  38.7 % [=================>                       ]  42.1 %9 %                     ]  45.9 %>                    ]  49.5 %]  52.0 % [======================>                  ]  53.6 %=======================>                 ]  57.4 %]  59.8 %]  67.3 %>            ]  69.6 % [==============================>          ]  72.7 %0 %1 %]  83.7 %>     ]  85.4 %.8 %   ]  91.2 % [======================================>  ]  92.6 %======================================>  ]  93.4 %\u001b[36m\u001b[1mFetching:\u001b[22m\u001b[39m [======================================>  ]  95.0 %]  95.7 %1 %\u001b[?25h\u001b[32m\u001b[1m Resolving\u001b[22m\u001b[39m package versions...\n",
      "\u001b[32m\u001b[1m Installed\u001b[22m\u001b[39m LibVPX_jll ─────────────────── v1.8.1+1\n",
      "\u001b[32m\u001b[1m Installed\u001b[22m\u001b[39m libass_jll ─────────────────── v0.14.0+0\n",
      "\u001b[32m\u001b[1m Installed\u001b[22m\u001b[39m Rmath ──────────────────────── v0.6.1\n",
      "\u001b[32m\u001b[1m Installed\u001b[22m\u001b[39m x265_jll ───────────────────── v3.0.0+0\n",
      "\u001b[32m\u001b[1m Installed\u001b[22m\u001b[39m PlotThemes ─────────────────── v1.0.1\n",
      "\u001b[32m\u001b[1m Installed\u001b[22m\u001b[39m PlotUtils ──────────────────── v0.6.3\n",
      "\u001b[32m\u001b[1m Installed\u001b[22m\u001b[39m Plots ──────────────────────── v0.27.1\n",
      "\u001b[32m\u001b[1m Installed\u001b[22m\u001b[39m DiffRules ──────────────────── v1.0.1\n",
      "\u001b[32m\u001b[1m Installed\u001b[22m\u001b[39m OpenBLAS_jll ───────────────── v0.3.7+6\n",
      "\u001b[32m\u001b[1m Installed\u001b[22m\u001b[39m Ratios ─────────────────────── v0.4.0\n",
      "\u001b[32m\u001b[1m Installed\u001b[22m\u001b[39m ArrayInterface ─────────────── v2.5.0\n",
      "\u001b[32m\u001b[1m Installed\u001b[22m\u001b[39m Zlib_jll ───────────────────── v1.2.11+8\n",
      "\u001b[32m\u001b[1m Installed\u001b[22m\u001b[39m OpenSpecFun_jll ────────────── v0.5.3+2\n",
      "\u001b[32m\u001b[1m Installed\u001b[22m\u001b[39m GeometryTypes ──────────────── v0.8.1\n",
      "\u001b[32m\u001b[1m Installed\u001b[22m\u001b[39m WoodburyMatrices ───────────── v0.5.1\n",
      "\u001b[32m\u001b[1m Installed\u001b[22m\u001b[39m LAME_jll ───────────────────── v3.100.0+0\n",
      "\u001b[32m\u001b[1m Installed\u001b[22m\u001b[39m Opus_jll ───────────────────── v1.3.1+0\n",
      "\u001b[32m\u001b[1m Installed\u001b[22m\u001b[39m FFTW_jll ───────────────────── v3.3.9+4\n",
      "\u001b[32m\u001b[1m Installed\u001b[22m\u001b[39m StatsFuns ──────────────────── v0.9.4\n",
      "\u001b[32m\u001b[1m Installed\u001b[22m\u001b[39m libfdk_aac_jll ─────────────── v0.1.6+1\n",
      "\u001b[32m\u001b[1m Installed\u001b[22m\u001b[39m FFMPEG_jll ─────────────────── v4.1.0+2\n",
      "\u001b[32m\u001b[1m Installed\u001b[22m\u001b[39m FreeType2_jll ──────────────── v2.10.1+1\n",
      "\u001b[32m\u001b[1m Installed\u001b[22m\u001b[39m JSON ───────────────────────── v0.20.1\n",
      "\u001b[32m\u001b[1m Installed\u001b[22m\u001b[39m Rmath_jll ──────────────────── v0.2.2+0\n",
      "\u001b[32m\u001b[1m Installed\u001b[22m\u001b[39m OpenSSL_jll ────────────────── v1.1.1+1\n",
      "\u001b[32m\u001b[1m Installed\u001b[22m\u001b[39m FiniteDiff ─────────────────── v2.2.1\n",
      "\u001b[32m\u001b[1m Installed\u001b[22m\u001b[39m FillArrays ─────────────────── v0.8.5\n",
      "\u001b[32m\u001b[1m Installed\u001b[22m\u001b[39m CSTParser ──────────────────── v2.2.0\n",
      "\u001b[32m\u001b[1m Installed\u001b[22m\u001b[39m FriBidi_jll ────────────────── v1.0.5+2\n",
      "\u001b[32m\u001b[1m Installed\u001b[22m\u001b[39m CompilerSupportLibraries_jll ─ v0.2.0+1\n",
      "\u001b[32m\u001b[1m Installed\u001b[22m\u001b[39m SpecialFunctions ───────────── v0.10.0\n",
      "\u001b[32m\u001b[1m Installed\u001b[22m\u001b[39m Bzip2_jll ──────────────────── v1.0.6+1\n",
      "\u001b[32m\u001b[1m Installed\u001b[22m\u001b[39m RecipesBase ────────────────── v0.8.0\n",
      "\u001b[32m\u001b[1m Installed\u001b[22m\u001b[39m ZeroMQ_jll ─────────────────── v4.3.2+1\n",
      "\u001b[32m\u001b[1m Installed\u001b[22m\u001b[39m FFMPEG ─────────────────────── v0.3.0\n",
      "\u001b[32m\u001b[1m Installed\u001b[22m\u001b[39m Conda ──────────────────────── v1.4.1\n",
      "\u001b[32m\u001b[1m Installed\u001b[22m\u001b[39m Ogg_jll ────────────────────── v1.3.3+0\n",
      "\u001b[32m\u001b[1m Installed\u001b[22m\u001b[39m libvorbis_jll ──────────────── v1.3.6+2\n",
      "\u001b[32m\u001b[1m Installed\u001b[22m\u001b[39m x264_jll ───────────────────── v2019.5.25+1\n",
      "\u001b[32m\u001b[1m Installed\u001b[22m\u001b[39m GR ─────────────────────────── v0.47.0\n",
      "\u001b[32m\u001b[1m Installed\u001b[22m\u001b[39m Interpolations ─────────────── v0.12.5\n"
     ]
    },
    {
     "ename": "ErrorException",
     "evalue": "Unable to automatically install 'FFMPEG' from 'C:\\Users\\razek\\.julia\\packages\\FFMPEG_jll\\1XNMx\\Artifacts.toml'",
     "output_type": "error",
     "traceback": [
      "Unable to automatically install 'FFMPEG' from 'C:\\Users\\razek\\.julia\\packages\\FFMPEG_jll\\1XNMx\\Artifacts.toml'",
      "",
      "Stacktrace:",
      " [1] error(::String) at .\\error.jl:33",
      " [2] #ensure_artifact_installed#42(::Pkg.BinaryPlatforms.Platform, ::Bool, ::typeof(Pkg.Artifacts.ensure_artifact_installed), ::String, ::Dict{String,Any}, ::String) at D:\\buildbot\\worker\\package_win64\\build\\usr\\share\\julia\\stdlib\\v1.3\\Pkg\\src\\Artifacts.jl:873",
      " [3] (::Pkg.Artifacts.var\"#kw##ensure_artifact_installed\")(::NamedTuple{(:platform, :verbose),Tuple{Pkg.BinaryPlatforms.Windows,Bool}}, ::typeof(Pkg.Artifacts.ensure_artifact_installed), ::String, ::Dict{String,Any}, ::String) at .\\none:0",
      " [4] #ensure_all_artifacts_installed#43(::Pkg.BinaryPlatforms.Platform, ::Nothing, ::Bool, ::Bool, ::typeof(Pkg.Artifacts.ensure_all_artifacts_installed), ::String) at D:\\buildbot\\worker\\package_win64\\build\\usr\\share\\julia\\stdlib\\v1.3\\Pkg\\src\\Artifacts.jl:919",
      " [5] #ensure_all_artifacts_installed at D:\\buildbot\\worker\\package_win64\\build\\usr\\share\\julia\\stdlib\\v1.3\\Pkg\\src\\Operations.jl:0 [inlined]",
      " [6] #download_artifacts#78(::Pkg.BinaryPlatforms.Windows, ::Bool, ::typeof(Pkg.Operations.download_artifacts), ::Array{String,1}) at D:\\buildbot\\worker\\package_win64\\build\\usr\\share\\julia\\stdlib\\v1.3\\Pkg\\src\\Operations.jl:580",
      " [7] #download_artifacts at .\\none:0 [inlined]",
      " [8] #download_artifacts#73(::Pkg.BinaryPlatforms.Windows, ::Bool, ::typeof(Pkg.Operations.download_artifacts), ::Array{Pkg.Types.PackageSpec,1}) at D:\\buildbot\\worker\\package_win64\\build\\usr\\share\\julia\\stdlib\\v1.3\\Pkg\\src\\Operations.jl:570",
      " [9] (::Pkg.Operations.var\"#kw##download_artifacts\")(::NamedTuple{(:platform,),Tuple{Pkg.BinaryPlatforms.Windows}}, ::typeof(Pkg.Operations.download_artifacts), ::Array{Pkg.Types.PackageSpec,1}) at .\\none:0",
      " [10] #add#112(::Bool, ::Pkg.BinaryPlatforms.Windows, ::typeof(Pkg.Operations.add), ::Pkg.Types.Context, ::Array{Pkg.Types.PackageSpec,1}, ::Array{Base.UUID,1}) at D:\\buildbot\\worker\\package_win64\\build\\usr\\share\\julia\\stdlib\\v1.3\\Pkg\\src\\Operations.jl:1017",
      " [11] #add at .\\none:0 [inlined]",
      " [12] #add#25(::Bool, ::Pkg.BinaryPlatforms.Windows, ::Base.Iterators.Pairs{Union{},Union{},Tuple{},NamedTuple{(),Tuple{}}}, ::typeof(Pkg.API.add), ::Pkg.Types.Context, ::Array{Pkg.Types.PackageSpec,1}) at D:\\buildbot\\worker\\package_win64\\build\\usr\\share\\julia\\stdlib\\v1.3\\Pkg\\src\\API.jl:102",
      " [13] add(::Pkg.Types.Context, ::Array{Pkg.Types.PackageSpec,1}) at D:\\buildbot\\worker\\package_win64\\build\\usr\\share\\julia\\stdlib\\v1.3\\Pkg\\src\\API.jl:72",
      " [14] #add#24 at D:\\buildbot\\worker\\package_win64\\build\\usr\\share\\julia\\stdlib\\v1.3\\Pkg\\src\\API.jl:69 [inlined]",
      " [15] add at D:\\buildbot\\worker\\package_win64\\build\\usr\\share\\julia\\stdlib\\v1.3\\Pkg\\src\\API.jl:69 [inlined]",
      " [16] #add#21 at D:\\buildbot\\worker\\package_win64\\build\\usr\\share\\julia\\stdlib\\v1.3\\Pkg\\src\\API.jl:67 [inlined]",
      " [17] add at D:\\buildbot\\worker\\package_win64\\build\\usr\\share\\julia\\stdlib\\v1.3\\Pkg\\src\\API.jl:67 [inlined]",
      " [18] #add#20(::Base.Iterators.Pairs{Union{},Union{},Tuple{},NamedTuple{(),Tuple{}}}, ::typeof(Pkg.API.add), ::String) at D:\\buildbot\\worker\\package_win64\\build\\usr\\share\\julia\\stdlib\\v1.3\\Pkg\\src\\API.jl:66",
      " [19] add(::String) at D:\\buildbot\\worker\\package_win64\\build\\usr\\share\\julia\\stdlib\\v1.3\\Pkg\\src\\API.jl:66",
      " [20] top-level scope at In[30]:1"
     ]
    }
   ],
   "source": [
    "import Pkg; Pkg.add(\"Plots\")"
   ]
  },
  {
   "cell_type": "code",
   "execution_count": 34,
   "metadata": {},
   "outputs": [
    {
     "name": "stderr",
     "output_type": "stream",
     "text": [
      "┌ Info: Precompiling Plots [91a5bcdd-55d7-5caf-9e0b-520d859cae80]\n",
      "└ @ Base loading.jl:1273\n",
      "┌ Warning: Module JSON with build ID 207130637104101 is missing from the cache.\n",
      "│ This may mean JSON [682c06a0-de6a-54ab-a142-c8b1cf79cde6] does not support precompilation but is imported by a module that does.\n",
      "└ @ Base loading.jl:1011\n",
      "┌ Info: Skipping precompilation since __precompile__(false). Importing Plots [91a5bcdd-55d7-5caf-9e0b-520d859cae80].\n",
      "└ @ Base loading.jl:1028\n"
     ]
    }
   ],
   "source": [
    "using Plots"
   ]
  },
  {
   "cell_type": "code",
   "execution_count": 35,
   "metadata": {},
   "outputs": [
    {
     "data": {
      "text/plain": [
       "Plots.GRBackend()"
      ]
     },
     "execution_count": 35,
     "metadata": {},
     "output_type": "execute_result"
    }
   ],
   "source": [
    "gr()"
   ]
  },
  {
   "cell_type": "code",
   "execution_count": null,
   "metadata": {},
   "outputs": [],
   "source": [
    "f(x) = 3 * x^2 + 6 * x - 9\n",
    "for x = -5:5    \n",
    "  println(\"(\",x, \", \", f(x), \")\")\n",
    "end"
   ]
  },
  {
   "cell_type": "code",
   "execution_count": null,
   "metadata": {},
   "outputs": [],
   "source": [
    "using Plots\n",
    "gr() # Activate the GR backend for use with Plots\n",
    "plot(f, -4, 3) # plot f over [-4,4]\n",
    "plot!(zero, -4, 3)"
   ]
  },
  {
   "cell_type": "code",
   "execution_count": 1,
   "metadata": {},
   "outputs": [
    {
     "ename": "UndefVarError",
     "evalue": "UndefVarError: f not defined",
     "output_type": "error",
     "traceback": [
      "UndefVarError: f not defined",
      "",
      "Stacktrace:",
      " [1] top-level scope at In[1]:4"
     ]
    }
   ],
   "source": [
    "using Plots\n",
    "gr()"
   ]
  },
  {
   "cell_type": "code",
   "execution_count": 2,
   "metadata": {},
   "outputs": [
    {
     "data": {
      "text/plain": [
       "f (generic function with 1 method)"
      ]
     },
     "execution_count": 2,
     "metadata": {},
     "output_type": "execute_result"
    }
   ],
   "source": [
    "f(x) = 2x^2 - 4"
   ]
  },
  {
   "cell_type": "code",
   "execution_count": 3,
   "metadata": {},
   "outputs": [
    {
     "data": {
      "image/svg+xml": [
       "<?xml version=\"1.0\" encoding=\"utf-8\"?>\n",
       "<svg xmlns=\"http://www.w3.org/2000/svg\" xmlns:xlink=\"http://www.w3.org/1999/xlink\" width=\"600\" height=\"400\" viewBox=\"0 0 2400 1600\">\n",
       "<defs>\n",
       "  <clipPath id=\"clip7300\">\n",
       "    <rect x=\"0\" y=\"0\" width=\"2400\" height=\"1600\"/>\n",
       "  </clipPath>\n",
       "</defs>\n",
       "<path clip-path=\"url(#clip7300)\" d=\"\n",
       "M0 1600 L2400 1600 L2400 0 L0 0  Z\n",
       "  \" fill=\"#ffffff\" fill-rule=\"evenodd\" fill-opacity=\"1\"/>\n",
       "<defs>\n",
       "  <clipPath id=\"clip7301\">\n",
       "    <rect x=\"480\" y=\"0\" width=\"1681\" height=\"1600\"/>\n",
       "  </clipPath>\n",
       "</defs>\n",
       "<path clip-path=\"url(#clip7300)\" d=\"\n",
       "M167.279 1487.47 L2352.76 1487.47 L2352.76 47.2441 L167.279 47.2441  Z\n",
       "  \" fill=\"#ffffff\" fill-rule=\"evenodd\" fill-opacity=\"1\"/>\n",
       "<defs>\n",
       "  <clipPath id=\"clip7302\">\n",
       "    <rect x=\"167\" y=\"47\" width=\"2186\" height=\"1441\"/>\n",
       "  </clipPath>\n",
       "</defs>\n",
       "<polyline clip-path=\"url(#clip7302)\" style=\"stroke:#000000; stroke-width:1.6; stroke-opacity:0.1; fill:none\" points=\"\n",
       "  229.132,1487.47 229.132,47.2441 \n",
       "  \"/>\n",
       "<polyline clip-path=\"url(#clip7302)\" style=\"stroke:#000000; stroke-width:1.6; stroke-opacity:0.1; fill:none\" points=\"\n",
       "  744.575,1487.47 744.575,47.2441 \n",
       "  \"/>\n",
       "<polyline clip-path=\"url(#clip7302)\" style=\"stroke:#000000; stroke-width:1.6; stroke-opacity:0.1; fill:none\" points=\"\n",
       "  1260.02,1487.47 1260.02,47.2441 \n",
       "  \"/>\n",
       "<polyline clip-path=\"url(#clip7302)\" style=\"stroke:#000000; stroke-width:1.6; stroke-opacity:0.1; fill:none\" points=\"\n",
       "  1775.46,1487.47 1775.46,47.2441 \n",
       "  \"/>\n",
       "<polyline clip-path=\"url(#clip7302)\" style=\"stroke:#000000; stroke-width:1.6; stroke-opacity:0.1; fill:none\" points=\"\n",
       "  2290.9,1487.47 2290.9,47.2441 \n",
       "  \"/>\n",
       "<polyline clip-path=\"url(#clip7302)\" style=\"stroke:#000000; stroke-width:1.6; stroke-opacity:0.1; fill:none\" points=\"\n",
       "  167.279,1419.57 2352.76,1419.57 \n",
       "  \"/>\n",
       "<polyline clip-path=\"url(#clip7302)\" style=\"stroke:#000000; stroke-width:1.6; stroke-opacity:0.1; fill:none\" points=\"\n",
       "  167.279,1079.89 2352.76,1079.89 \n",
       "  \"/>\n",
       "<polyline clip-path=\"url(#clip7302)\" style=\"stroke:#000000; stroke-width:1.6; stroke-opacity:0.1; fill:none\" points=\"\n",
       "  167.279,740.201 2352.76,740.201 \n",
       "  \"/>\n",
       "<polyline clip-path=\"url(#clip7302)\" style=\"stroke:#000000; stroke-width:1.6; stroke-opacity:0.1; fill:none\" points=\"\n",
       "  167.279,400.516 2352.76,400.516 \n",
       "  \"/>\n",
       "<polyline clip-path=\"url(#clip7302)\" style=\"stroke:#000000; stroke-width:1.6; stroke-opacity:0.1; fill:none\" points=\"\n",
       "  167.279,60.8305 2352.76,60.8305 \n",
       "  \"/>\n",
       "<polyline clip-path=\"url(#clip7300)\" style=\"stroke:#000000; stroke-width:3.2; stroke-opacity:1; fill:none\" points=\"\n",
       "  167.279,1487.47 2352.76,1487.47 \n",
       "  \"/>\n",
       "<polyline clip-path=\"url(#clip7300)\" style=\"stroke:#000000; stroke-width:3.2; stroke-opacity:1; fill:none\" points=\"\n",
       "  167.279,1487.47 167.279,47.2441 \n",
       "  \"/>\n",
       "<polyline clip-path=\"url(#clip7300)\" style=\"stroke:#000000; stroke-width:3.2; stroke-opacity:1; fill:none\" points=\"\n",
       "  229.132,1487.47 229.132,1465.87 \n",
       "  \"/>\n",
       "<polyline clip-path=\"url(#clip7300)\" style=\"stroke:#000000; stroke-width:3.2; stroke-opacity:1; fill:none\" points=\"\n",
       "  744.575,1487.47 744.575,1465.87 \n",
       "  \"/>\n",
       "<polyline clip-path=\"url(#clip7300)\" style=\"stroke:#000000; stroke-width:3.2; stroke-opacity:1; fill:none\" points=\"\n",
       "  1260.02,1487.47 1260.02,1465.87 \n",
       "  \"/>\n",
       "<polyline clip-path=\"url(#clip7300)\" style=\"stroke:#000000; stroke-width:3.2; stroke-opacity:1; fill:none\" points=\"\n",
       "  1775.46,1487.47 1775.46,1465.87 \n",
       "  \"/>\n",
       "<polyline clip-path=\"url(#clip7300)\" style=\"stroke:#000000; stroke-width:3.2; stroke-opacity:1; fill:none\" points=\"\n",
       "  2290.9,1487.47 2290.9,1465.87 \n",
       "  \"/>\n",
       "<polyline clip-path=\"url(#clip7300)\" style=\"stroke:#000000; stroke-width:3.2; stroke-opacity:1; fill:none\" points=\"\n",
       "  167.279,1419.57 200.061,1419.57 \n",
       "  \"/>\n",
       "<polyline clip-path=\"url(#clip7300)\" style=\"stroke:#000000; stroke-width:3.2; stroke-opacity:1; fill:none\" points=\"\n",
       "  167.279,1079.89 200.061,1079.89 \n",
       "  \"/>\n",
       "<polyline clip-path=\"url(#clip7300)\" style=\"stroke:#000000; stroke-width:3.2; stroke-opacity:1; fill:none\" points=\"\n",
       "  167.279,740.201 200.061,740.201 \n",
       "  \"/>\n",
       "<polyline clip-path=\"url(#clip7300)\" style=\"stroke:#000000; stroke-width:3.2; stroke-opacity:1; fill:none\" points=\"\n",
       "  167.279,400.516 200.061,400.516 \n",
       "  \"/>\n",
       "<polyline clip-path=\"url(#clip7300)\" style=\"stroke:#000000; stroke-width:3.2; stroke-opacity:1; fill:none\" points=\"\n",
       "  167.279,60.8305 200.061,60.8305 \n",
       "  \"/>\n",
       "<g clip-path=\"url(#clip7300)\">\n",
       "<text style=\"fill:#000000; fill-opacity:1; font-family:Arial,Helvetica Neue,Helvetica,sans-serif; font-size:48px; text-anchor:middle;\" transform=\"rotate(0, 229.132, 1541.47)\" x=\"229.132\" y=\"1541.47\">-10</text>\n",
       "</g>\n",
       "<g clip-path=\"url(#clip7300)\">\n",
       "<text style=\"fill:#000000; fill-opacity:1; font-family:Arial,Helvetica Neue,Helvetica,sans-serif; font-size:48px; text-anchor:middle;\" transform=\"rotate(0, 744.575, 1541.47)\" x=\"744.575\" y=\"1541.47\">-5</text>\n",
       "</g>\n",
       "<g clip-path=\"url(#clip7300)\">\n",
       "<text style=\"fill:#000000; fill-opacity:1; font-family:Arial,Helvetica Neue,Helvetica,sans-serif; font-size:48px; text-anchor:middle;\" transform=\"rotate(0, 1260.02, 1541.47)\" x=\"1260.02\" y=\"1541.47\">0</text>\n",
       "</g>\n",
       "<g clip-path=\"url(#clip7300)\">\n",
       "<text style=\"fill:#000000; fill-opacity:1; font-family:Arial,Helvetica Neue,Helvetica,sans-serif; font-size:48px; text-anchor:middle;\" transform=\"rotate(0, 1775.46, 1541.47)\" x=\"1775.46\" y=\"1541.47\">5</text>\n",
       "</g>\n",
       "<g clip-path=\"url(#clip7300)\">\n",
       "<text style=\"fill:#000000; fill-opacity:1; font-family:Arial,Helvetica Neue,Helvetica,sans-serif; font-size:48px; text-anchor:middle;\" transform=\"rotate(0, 2290.9, 1541.47)\" x=\"2290.9\" y=\"1541.47\">10</text>\n",
       "</g>\n",
       "<g clip-path=\"url(#clip7300)\">\n",
       "<text style=\"fill:#000000; fill-opacity:1; font-family:Arial,Helvetica Neue,Helvetica,sans-serif; font-size:48px; text-anchor:end;\" transform=\"rotate(0, 143.279, 1437.07)\" x=\"143.279\" y=\"1437.07\">0</text>\n",
       "</g>\n",
       "<g clip-path=\"url(#clip7300)\">\n",
       "<text style=\"fill:#000000; fill-opacity:1; font-family:Arial,Helvetica Neue,Helvetica,sans-serif; font-size:48px; text-anchor:end;\" transform=\"rotate(0, 143.279, 1097.39)\" x=\"143.279\" y=\"1097.39\">50</text>\n",
       "</g>\n",
       "<g clip-path=\"url(#clip7300)\">\n",
       "<text style=\"fill:#000000; fill-opacity:1; font-family:Arial,Helvetica Neue,Helvetica,sans-serif; font-size:48px; text-anchor:end;\" transform=\"rotate(0, 143.279, 757.701)\" x=\"143.279\" y=\"757.701\">100</text>\n",
       "</g>\n",
       "<g clip-path=\"url(#clip7300)\">\n",
       "<text style=\"fill:#000000; fill-opacity:1; font-family:Arial,Helvetica Neue,Helvetica,sans-serif; font-size:48px; text-anchor:end;\" transform=\"rotate(0, 143.279, 418.016)\" x=\"143.279\" y=\"418.016\">150</text>\n",
       "</g>\n",
       "<g clip-path=\"url(#clip7300)\">\n",
       "<text style=\"fill:#000000; fill-opacity:1; font-family:Arial,Helvetica Neue,Helvetica,sans-serif; font-size:48px; text-anchor:end;\" transform=\"rotate(0, 143.279, 78.3305)\" x=\"143.279\" y=\"78.3305\">200</text>\n",
       "</g>\n",
       "<polyline clip-path=\"url(#clip7302)\" style=\"stroke:#009af9; stroke-width:3.2; stroke-opacity:1; fill:none\" points=\"\n",
       "  229.132,88.0053 239.2,114.414 249.267,140.564 342.355,370.078 435.443,577.434 491.385,691.388 547.327,797.338 594.625,880.675 641.924,958.291 693.303,1036.12 \n",
       "  744.682,1107.2 792.049,1166.75 839.416,1220.56 890.199,1271.89 940.981,1316.61 999.818,1360.18 1058.65,1394.91 1110.94,1418.33 1163.23,1434.77 1209.08,1443.43 \n",
       "  1254.93,1446.71 1304.92,1444.17 1354.91,1435.23 1405.2,1419.8 1455.48,1397.9 1511.08,1366.16 1566.68,1326.51 1619.58,1281.45 1672.48,1229.23 1727.49,1167.35 \n",
       "  1782.49,1097.73 1828.79,1033.13 1875.09,963.047 1931.62,870.052 1988.15,768.884 2041.29,666.333 2094.43,556.561 2179.57,365.648 2264.7,156.201 2277.8,122.323 \n",
       "  2290.9,88.0053 \n",
       "  \"/>\n",
       "<path clip-path=\"url(#clip7300)\" d=\"\n",
       "M1989.93 251.724 L2280.76 251.724 L2280.76 130.764 L1989.93 130.764  Z\n",
       "  \" fill=\"#ffffff\" fill-rule=\"evenodd\" fill-opacity=\"1\"/>\n",
       "<polyline clip-path=\"url(#clip7300)\" style=\"stroke:#000000; stroke-width:3.2; stroke-opacity:1; fill:none\" points=\"\n",
       "  1989.93,251.724 2280.76,251.724 2280.76,130.764 1989.93,130.764 1989.93,251.724 \n",
       "  \"/>\n",
       "<polyline clip-path=\"url(#clip7300)\" style=\"stroke:#009af9; stroke-width:3.2; stroke-opacity:1; fill:none\" points=\"\n",
       "  2013.93,191.244 2157.93,191.244 \n",
       "  \"/>\n",
       "<g clip-path=\"url(#clip7300)\">\n",
       "<text style=\"fill:#000000; fill-opacity:1; font-family:Arial,Helvetica Neue,Helvetica,sans-serif; font-size:48px; text-anchor:start;\" transform=\"rotate(0, 2181.93, 208.744)\" x=\"2181.93\" y=\"208.744\">y1</text>\n",
       "</g>\n",
       "</svg>\n"
      ]
     },
     "execution_count": 3,
     "metadata": {},
     "output_type": "execute_result"
    }
   ],
   "source": [
    "plot(f, -10, 10)"
   ]
  },
  {
   "cell_type": "code",
   "execution_count": null,
   "metadata": {},
   "outputs": [],
   "source": []
  }
 ],
 "metadata": {
  "kernelspec": {
   "display_name": "Julia 1.3.1",
   "language": "julia",
   "name": "julia-1.3"
  },
  "language_info": {
   "file_extension": ".jl",
   "mimetype": "application/julia",
   "name": "julia",
   "version": "1.3.1"
  }
 },
 "nbformat": 4,
 "nbformat_minor": 4
}
