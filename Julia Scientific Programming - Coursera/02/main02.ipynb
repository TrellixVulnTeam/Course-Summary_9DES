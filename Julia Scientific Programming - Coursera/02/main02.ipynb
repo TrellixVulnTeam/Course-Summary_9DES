{
 "cells": [
  {
   "cell_type": "code",
   "execution_count": 1,
   "metadata": {},
   "outputs": [],
   "source": [
    "using DelimitedFiles"
   ]
  },
  {
   "cell_type": "code",
   "execution_count": 2,
   "metadata": {},
   "outputs": [
    {
     "data": {
      "text/plain": [
       "54×9 Array{Any,2}:\n",
       " \"25 Nov 2015\"  28637  11314  3804  2536  …  4808     14122     3955   \n",
       " \"18 Nov 2015\"  28634  11314  3804  2536     4808     14122     3955   \n",
       " \"11 Nov 2015\"  28635  11314  3805  2536     4808     14122     3955   \n",
       " \"4 Nov 2015\"   28607  11314  3810  2536     4808     14089     3955   \n",
       " \"25 Oct 2015\"  28539  11298  3806  2535     4808     14061     3955   \n",
       " \"18 Oct 2015\"  28476  11298  3803  2535  …  4808     14001     3955   \n",
       " \"11 Oct 2015\"  28454  11297  3800  2534     4808     13982     3955   \n",
       " \"27 Sep 2015\"  28388  11296  3805  2533     4808     13911     3955   \n",
       " \"20 Sep 2015\"  28295  11295  3800  2532     4808     13823     3955   \n",
       " \"13 Sep 2015\"  28220  11291  3792  2530     4808     13756     3953   \n",
       " \"6 Sep 2015\"   28147  11291  3792  2530  …  4808     13683     3953   \n",
       " \"30 Aug 2015\"  28073  11290  3792  2529     4808     13609     3953   \n",
       " \"16 Aug 2015\"  27952  11284  3786  2524     4808     13494     3952   \n",
       " ⋮                                        ⋱                            \n",
       " \"9 Aug 2014\"    1835   1011   506   373      323       730      315   \n",
       " \"30 Jul 2014\"   1437    825   472   346      227       574      252   \n",
       " \"23 Jul 2014\"   1201    672   427   319      129       525      224   \n",
       " \"14 Jul 2014\"    982    613   411   310  …   106       397      197   \n",
       " \"2 Jul 2014\"     779    481   412   305       75       252      101   \n",
       " \"17 Jun 2014\"    528    337   398   264       24        97       49   \n",
       " \"27 May 2014\"    309    202   281   186       11        16        5   \n",
       " \"12 May 2014\"    260    182   248   171       11          \"–\"      \"–\"\n",
       " \"1 May 2014\"     239    160   226   149  …    11          \"-\"      \"-\"\n",
       " \"14 Apr 2014\"    176    110   168   108        2          \"–\"      \"–\"\n",
       " \"31 Mar 2014\"    130     82   122    80        2          \"–\"      \"–\"\n",
       " \"22 Mar 2014\"     49     29    49    29         \"–\"       \"–\"      \"–\""
      ]
     },
     "execution_count": 2,
     "metadata": {},
     "output_type": "execute_result"
    }
   ],
   "source": [
    "wikiEVDraw = DelimitedFiles.readdlm(\"wikipediaEVDraw.csv\", ',')"
   ]
  },
  {
   "cell_type": "code",
   "execution_count": 3,
   "metadata": {},
   "outputs": [],
   "source": [
    "using Dates"
   ]
  },
  {
   "cell_type": "code",
   "execution_count": 4,
   "metadata": {},
   "outputs": [
    {
     "data": {
      "text/plain": [
       "2015-11-25T00:00:00"
      ]
     },
     "execution_count": 4,
     "metadata": {},
     "output_type": "execute_result"
    }
   ],
   "source": [
    "Dates.DateTime(wikiEVDraw[1,1], \"d u y\")"
   ]
  },
  {
   "cell_type": "code",
   "execution_count": 6,
   "metadata": {},
   "outputs": [
    {
     "data": {
      "text/plain": [
       "54-element Array{Any,1}:\n",
       " \"25 Nov 2015\"\n",
       " \"18 Nov 2015\"\n",
       " \"11 Nov 2015\"\n",
       " \"4 Nov 2015\" \n",
       " \"25 Oct 2015\"\n",
       " \"18 Oct 2015\"\n",
       " \"11 Oct 2015\"\n",
       " \"27 Sep 2015\"\n",
       " \"20 Sep 2015\"\n",
       " \"13 Sep 2015\"\n",
       " \"6 Sep 2015\" \n",
       " \"30 Aug 2015\"\n",
       " \"16 Aug 2015\"\n",
       " ⋮            \n",
       " \"9 Aug 2014\" \n",
       " \"30 Jul 2014\"\n",
       " \"23 Jul 2014\"\n",
       " \"14 Jul 2014\"\n",
       " \"2 Jul 2014\" \n",
       " \"17 Jun 2014\"\n",
       " \"27 May 2014\"\n",
       " \"12 May 2014\"\n",
       " \"1 May 2014\" \n",
       " \"14 Apr 2014\"\n",
       " \"31 Mar 2014\"\n",
       " \"22 Mar 2014\""
      ]
     },
     "execution_count": 6,
     "metadata": {},
     "output_type": "execute_result"
    }
   ],
   "source": [
    "col1 = wikiEVDraw[:,1]"
   ]
  },
  {
   "cell_type": "code",
   "execution_count": 7,
   "metadata": {},
   "outputs": [],
   "source": [
    "for i = 1:length(col1)\n",
    "    col1[i] = Dates.DateTime(col1[i], \"d u y\")\n",
    "end"
   ]
  },
  {
   "cell_type": "code",
   "execution_count": 8,
   "metadata": {},
   "outputs": [
    {
     "data": {
      "text/plain": [
       "54-element Array{Any,1}:\n",
       " 2015-11-25T00:00:00\n",
       " 2015-11-18T00:00:00\n",
       " 2015-11-11T00:00:00\n",
       " 2015-11-04T00:00:00\n",
       " 2015-10-25T00:00:00\n",
       " 2015-10-18T00:00:00\n",
       " 2015-10-11T00:00:00\n",
       " 2015-09-27T00:00:00\n",
       " 2015-09-20T00:00:00\n",
       " 2015-09-13T00:00:00\n",
       " 2015-09-06T00:00:00\n",
       " 2015-08-30T00:00:00\n",
       " 2015-08-16T00:00:00\n",
       " ⋮                  \n",
       " 2014-08-09T00:00:00\n",
       " 2014-07-30T00:00:00\n",
       " 2014-07-23T00:00:00\n",
       " 2014-07-14T00:00:00\n",
       " 2014-07-02T00:00:00\n",
       " 2014-06-17T00:00:00\n",
       " 2014-05-27T00:00:00\n",
       " 2014-05-12T00:00:00\n",
       " 2014-05-01T00:00:00\n",
       " 2014-04-14T00:00:00\n",
       " 2014-03-31T00:00:00\n",
       " 2014-03-22T00:00:00"
      ]
     },
     "execution_count": 8,
     "metadata": {},
     "output_type": "execute_result"
    }
   ],
   "source": [
    "col1"
   ]
  },
  {
   "cell_type": "code",
   "execution_count": 9,
   "metadata": {},
   "outputs": [
    {
     "data": {
      "text/plain": [
       "735927"
      ]
     },
     "execution_count": 9,
     "metadata": {},
     "output_type": "execute_result"
    }
   ],
   "source": [
    "Dates.datetime2rata(col1[1])"
   ]
  },
  {
   "cell_type": "code",
   "execution_count": 11,
   "metadata": {},
   "outputs": [
    {
     "data": {
      "text/plain": [
       "dayssincemar22 (generic function with 1 method)"
      ]
     },
     "execution_count": 11,
     "metadata": {},
     "output_type": "execute_result"
    }
   ],
   "source": [
    "dayssincemar22(x) = Dates.datetime2rata(x) - Dates.datetime2rata(col1[54])"
   ]
  },
  {
   "cell_type": "code",
   "execution_count": 13,
   "metadata": {},
   "outputs": [
    {
     "data": {
      "text/plain": [
       "54-element Array{Int64,1}:\n",
       " 324783408\n",
       " 324783552\n",
       " 324783600\n",
       " 324783840\n",
       " 324783984\n",
       " 324784032\n",
       " 324784080\n",
       " 324784128\n",
       " 324784176\n",
       " 324784224\n",
       " 324784272\n",
       " 324784416\n",
       " 324784464\n",
       "         ⋮\n",
       " 324786672\n",
       " 324786720\n",
       " 324786768\n",
       " 324786816\n",
       " 324786864\n",
       " 324786912\n",
       " 324786960\n",
       " 324787008\n",
       " 324787056\n",
       " 324787104\n",
       " 324787152\n",
       " 324787200"
      ]
     },
     "execution_count": 13,
     "metadata": {},
     "output_type": "execute_result"
    }
   ],
   "source": [
    "epidays = Array{Int64}(undef, 54)"
   ]
  },
  {
   "cell_type": "code",
   "execution_count": 14,
   "metadata": {},
   "outputs": [],
   "source": [
    "for i = 1:54\n",
    "    epidays[i] = dayssincemar22(col1[i])\n",
    "end\n"
   ]
  },
  {
   "cell_type": "code",
   "execution_count": 15,
   "metadata": {},
   "outputs": [
    {
     "data": {
      "text/plain": [
       "54-element Array{Int64,1}:\n",
       " 613\n",
       " 606\n",
       " 599\n",
       " 592\n",
       " 582\n",
       " 575\n",
       " 568\n",
       " 554\n",
       " 547\n",
       " 540\n",
       " 533\n",
       " 526\n",
       " 512\n",
       "   ⋮\n",
       " 140\n",
       " 130\n",
       " 123\n",
       " 114\n",
       " 102\n",
       "  87\n",
       "  66\n",
       "  51\n",
       "  40\n",
       "  23\n",
       "   9\n",
       "   0"
      ]
     },
     "execution_count": 15,
     "metadata": {},
     "output_type": "execute_result"
    }
   ],
   "source": [
    "epidays"
   ]
  },
  {
   "cell_type": "code",
   "execution_count": null,
   "metadata": {},
   "outputs": [],
   "source": [
    "wikiEVDraw[:,1] = epidays"
   ]
  }
 ],
 "metadata": {
  "kernelspec": {
   "display_name": "Julia 1.3.1",
   "language": "julia",
   "name": "julia-1.3"
  },
  "language_info": {
   "file_extension": ".jl",
   "mimetype": "application/julia",
   "name": "julia",
   "version": "1.3.1"
  }
 },
 "nbformat": 4,
 "nbformat_minor": 4
}
